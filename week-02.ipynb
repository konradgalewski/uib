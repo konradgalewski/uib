{
 "cells": [
  {
   "cell_type": "markdown",
   "metadata": {},
   "source": [
    "Before you turn this problem in, make sure everything runs as expected. First, **restart the kernel** (in the menubar, select Kernel$\\rightarrow$Restart) and then **run all cells** (in the menubar, select Cell$\\rightarrow$Run All).\n",
    "\n",
    "Make sure you fill in any place that says `YOUR CODE HERE` or `YOUR ANSWER HERE`, as well as your name and collaborators below:"
   ]
  },
  {
   "cell_type": "code",
   "execution_count": 1,
   "metadata": {},
   "outputs": [],
   "source": [
    "NAME = \"\"\n",
    "COLLABORATORS = \"\""
   ]
  },
  {
   "cell_type": "markdown",
   "metadata": {},
   "source": [
    "---"
   ]
  },
  {
   "cell_type": "markdown",
   "metadata": {
    "deletable": false,
    "editable": false,
    "nbgrader": {
     "checksum": "973aa20cf7d711dc9a84662d4631a6cd",
     "grade": false,
     "grade_id": "cell-1565a6216afdc1e4",
     "locked": true,
     "schema_version": 1,
     "solution": false
    }
   },
   "source": [
    "# Assignment Week 2\n",
    "\n",
    "Welcome to the second weekly assignment! Every week we'll give you an assignment that covers the materiel from the previous week. Again, these assignment are not obligatory but are highly recommended.\n",
    "\n",
    "I'm sure all of you know that the Puffin presents a remarkable combination of elegance and cuteness that is unparalleled in the animal kingdom. What you may not know is that [the Puffin is endangered](https://www.nytimes.com/interactive/2018/08/29/climate/puffins-dwindling-iceland.html). In fact, [global populations have plummeted in recent years](https://www.smithsonianmag.com/science-nature/uncertain-future-puffin-dinner-180961829/) due to several factors such as climate change and hunting (not helped by that the Puffins are, allegedly, delicious). The first step to finding a solution is to understand the problem. Hence, for this assignment we're going to build a system for simulating the Puffin population. We're going to do this for an imaginary population and we'll make some simplifying assumptions but the general idea is applicable to many real-world scenarios."
   ]
  },
  {
   "cell_type": "markdown",
   "metadata": {
    "deletable": false,
    "editable": false,
    "nbgrader": {
     "checksum": "06c316aec5d6adf2af211cf9fc0d4177",
     "grade": false,
     "grade_id": "cell-c781279ef0cef783",
     "locked": true,
     "schema_version": 1,
     "solution": false
    }
   },
   "source": [
    "## Problem 1\n",
    "One of the ways of protecting the population is to decide the hunting quota, i.e., how many Puffins hunters are allowed to hunt. Write a function `quota1(nadults)` that takes the number of adult Puffins as its only argument and returns the hunting quota. Assume that the total quota is 30% of all adults.\n",
    "\n",
    "### Python Hint: Function definitions\n",
    "```python\n",
    "def twice(a):     # define function named 'twice', taking 'a' as argument\n",
    "    return a + a  # compute a+a and return the value to the caller\n",
    "```"
   ]
  },
  {
   "cell_type": "code",
   "execution_count": 2,
   "metadata": {
    "deletable": false,
    "nbgrader": {
     "checksum": "d5e11cbcdc1577c7ff5203d40d081e56",
     "grade": false,
     "grade_id": "cell-e1f7c8f2bae79f2e",
     "locked": false,
     "schema_version": 1,
     "solution": true
    }
   },
   "outputs": [],
   "source": [
    "def quota1(nadults):\n",
    "    a=nadults*0.3\n",
    "    return a"
   ]
  },
  {
   "cell_type": "code",
   "execution_count": 3,
   "metadata": {
    "deletable": false,
    "editable": false,
    "nbgrader": {
     "checksum": "100e1750d7e447cd512ed8f583e8b2d2",
     "grade": true,
     "grade_id": "cell-ede5c1845eb38473",
     "locked": true,
     "points": 1,
     "schema_version": 1,
     "solution": false
    }
   },
   "outputs": [
    {
     "name": "stdout",
     "output_type": "stream",
     "text": [
      "tests pass\n"
     ]
    }
   ],
   "source": [
    "assert quota1(1000) == 300, quota1(1000)\n",
    "assert quota1(2500) == 750, quota1(2500)\n",
    "print('tests pass')"
   ]
  },
  {
   "cell_type": "markdown",
   "metadata": {
    "deletable": false,
    "editable": false,
    "nbgrader": {
     "checksum": "b767fc5b4df642bcb3a86897d3201432",
     "grade": false,
     "grade_id": "cell-0d5665cbdc92728a",
     "locked": true,
     "schema_version": 1,
     "solution": false
    }
   },
   "source": [
    "## Problem 2\n",
    "It turns out there's a problem with our hunting policy! In some years there are fewer sand eels, which are an important part of the Puffin diet. As a result fewer Puffin chicks are born in those years. Unless we take that into account we risk wiping out the population. Write a new function `quota2(nchicks, nadults)` that implements the following policy:\n",
    "* If the number of chicks is less than 20% of the number of adults, the total hunting quota is 10% of the number of adults.\n",
    "* Otherwise the total hunting quota is 30% of the number of adults.\n",
    "\n",
    "#### Python Hint: if statements\n",
    "```python\n",
    "if 2+2 < 5: # run the indented code if condition is true\n",
    "    print(\"true\")\n",
    "    # do more stuff if you want, e.g. 'return' or 'a = b', or something\n",
    "```\n",
    "#### Python Hint: comparison\n",
    "Less than: `a < b`, less-or-equal: `a <= b`, equal: `a == b`, not equal: `a != b`, greater-or-equal: `a >= b`, greater than: `a > b`. `a` and `b` can be any expressions, not just variables: `a*3 < 1/b`."
   ]
  },
  {
   "cell_type": "code",
   "execution_count": 4,
   "metadata": {
    "deletable": false,
    "nbgrader": {
     "checksum": "6a4e94dd78ab3b4d6d736c84e53598d2",
     "grade": false,
     "grade_id": "cell-45eb2240cd28593e",
     "locked": false,
     "schema_version": 1,
     "solution": true
    }
   },
   "outputs": [],
   "source": [
    "def quota2(nchicks, nadults):\n",
    "    proc=nchicks/nadults\n",
    "    if proc < 0.2:\n",
    "        return nadults*0.1\n",
    "    return nadults*0.3"
   ]
  },
  {
   "cell_type": "code",
   "execution_count": 5,
   "metadata": {
    "deletable": false,
    "editable": false,
    "nbgrader": {
     "checksum": "db06f6d6d92daf4190a1a2166fd97b61",
     "grade": true,
     "grade_id": "cell-5af8504b6f4e0541",
     "locked": true,
     "points": 1,
     "schema_version": 1,
     "solution": false
    }
   },
   "outputs": [
    {
     "name": "stdout",
     "output_type": "stream",
     "text": [
      "tests pass\n"
     ]
    }
   ],
   "source": [
    "assert quota2(10, 1000) == 100, quota2(10, 1000)\n",
    "assert quota2(20, 100) == 30, quota2(20, 100)\n",
    "assert quota2(19, 100) == 10, quota2(19, 100)\n",
    "assert quota2(4000, 10000) == 3000, quota2(4000, 10000)\n",
    "print('tests pass')"
   ]
  },
  {
   "cell_type": "markdown",
   "metadata": {
    "deletable": false,
    "editable": false,
    "nbgrader": {
     "checksum": "5613e7abb480f2fa85e9b8b04b5916d3",
     "grade": false,
     "grade_id": "cell-202c6e6c7ee8a394",
     "locked": true,
     "schema_version": 1,
     "solution": false
    }
   },
   "source": [
    "## Problem 3\n",
    "It turns out that even the above policy is problematic in years with especially few sand eels. You decide that if the number of chicks is less than 10% of the number of adults no hunting whatsoever is allowed. Write a new function `quota2(nchicks, nadults)` that implements the following policy\n",
    "* If the number of chicks is less than 10% of the number of adults, no hunting is allowed.\n",
    "* If the number of chicks is at least 10% but less than 20% of the number of adults, the total hunting quota is 10% of the number of adults.\n",
    "* Otherwise the total hunting quota is 30% of the number of adults.\n",
    "\n",
    "#### Python Hint: returning mulitple alternatives\n",
    "You can combine `if` and `return` to return different values in different cases:\n",
    "```python\n",
    "def howMany(a):\n",
    "    if a == 0:\n",
    "        return \"none\"\n",
    "    if a == 1:\n",
    "        return \"one\"\n",
    "    if a < 3:\n",
    "        return \"some\"\n",
    "    return \"many\" # this one will happen if none of the above match\n",
    "```\n"
   ]
  },
  {
   "cell_type": "code",
   "execution_count": 6,
   "metadata": {
    "deletable": false,
    "nbgrader": {
     "checksum": "8e7d130fac139706c9f9d91e8d55766c",
     "grade": false,
     "grade_id": "cell-b72ca823db5436a5",
     "locked": false,
     "schema_version": 1,
     "solution": true
    }
   },
   "outputs": [],
   "source": [
    "def quota3(nchicks, nadults):\n",
    "    proc=nchicks/nadults\n",
    "    if proc < 0.1:\n",
    "        return 0\n",
    "    if proc < 0.2:\n",
    "        return 0.1*nadults\n",
    "    return nadults*0.3\n",
    "        "
   ]
  },
  {
   "cell_type": "code",
   "execution_count": 7,
   "metadata": {
    "deletable": false,
    "editable": false,
    "nbgrader": {
     "checksum": "c6f89e3675ccffc585a2d7037477a92d",
     "grade": true,
     "grade_id": "cell-6717fa85be0bf312",
     "locked": true,
     "points": 1,
     "schema_version": 1,
     "solution": false
    }
   },
   "outputs": [
    {
     "name": "stdout",
     "output_type": "stream",
     "text": [
      "tests pass\n"
     ]
    }
   ],
   "source": [
    "assert quota3(10, 1000) == 0, quota3(10, 1000)\n",
    "assert quota3(20, 100) == 30, quota3(20, 100)\n",
    "assert quota3(19, 100) == 10, quota3(19, 100)\n",
    "assert quota3(4000, 10000) == 3000, quota3(4000, 10000)\n",
    "print('tests pass')"
   ]
  },
  {
   "cell_type": "markdown",
   "metadata": {
    "deletable": false,
    "editable": false,
    "nbgrader": {
     "checksum": "8a7f9737bc09bf1e6353c3a26c150298",
     "grade": false,
     "grade_id": "cell-05123c2c16474e18",
     "locked": true,
     "schema_version": 1,
     "solution": false
    }
   },
   "source": [
    "## Problem 4\n",
    "The latest policy is looking promising. There are still many aspects in the life of the Puffins we've not included but what we have is a good start. For this problem we're going to write a function that simulates one year of the Puffin population. Write a function `simulate1(nage0, nage1, nage2, nadults)` that takes as arguments the number of Puffins of age 0 (newborns), 1 and 2 years as well as the number of adult Puffins at the beginning of the year and returns the number of adult Puffins at the end of the year. \n",
    "* Puffins become adults at age 3, i.e., the number of adults increases by `nage2` by the end of the year.\n",
    "* You should compute the hunting quota using the `quota3` function.\n",
    "* The hunting quota should be computed from the number of Puffins at the beginning of the year. \n",
    "* The `nchicks` argument for `quote3` is sum of `nage0`, `nage1` and `nage2`."
   ]
  },
  {
   "cell_type": "code",
   "execution_count": 8,
   "metadata": {
    "deletable": false,
    "nbgrader": {
     "checksum": "852a37046445914ec6fa69888edba9b7",
     "grade": false,
     "grade_id": "cell-2e0d2298149a955a",
     "locked": false,
     "schema_version": 1,
     "solution": true
    }
   },
   "outputs": [],
   "source": [
    "def simulate1(nage0, nage1, nage2, nadults):\n",
    "    '''\n",
    "    returns the number of adult Puffins at the end of the year \n",
    "    based on the number of Puffins at the beginning of the year.\n",
    "    \n",
    "    args:\n",
    "    \n",
    "    nage0: number of Puffins at age 0 (newborns)\n",
    "    \n",
    "    nage1, nage2: number of Puffins of age 1, 2.\n",
    "    \n",
    "    nadult: number of adult Puffins.\n",
    "    \n",
    "    returns: the number of adult Puffins at the end of the year.\n",
    "    '''\n",
    "    add=nage0+nage1+nage2\n",
    "    hunt=quota3(add,nadults)\n",
    "    return nadults-hunt+nage2   "
   ]
  },
  {
   "cell_type": "code",
   "execution_count": 9,
   "metadata": {
    "deletable": false,
    "editable": false,
    "nbgrader": {
     "checksum": "6ebc12da7f3046d4252e127eeab62b53",
     "grade": true,
     "grade_id": "cell-5727e7a33dbc083f",
     "locked": true,
     "points": 2,
     "schema_version": 1,
     "solution": false
    }
   },
   "outputs": [
    {
     "name": "stdout",
     "output_type": "stream",
     "text": [
      "tests pass\n"
     ]
    }
   ],
   "source": [
    "assert simulate1(10, 11, 12, 30) == 33, simulate1(10, 11, 12, 30)\n",
    "assert simulate1(1, 2, 3, 30) == 24, simulate1(1, 2, 3, 30)\n",
    "assert simulate1(100, 2, 3, 400) == 283, simulate1(100, 2, 3, 400)\n",
    "assert simulate1(100, 2, 3, 4000) == 4003, simulate1(100, 2, 3, 4000)\n",
    "print('tests pass')"
   ]
  },
  {
   "cell_type": "markdown",
   "metadata": {
    "deletable": false,
    "editable": false,
    "nbgrader": {
     "checksum": "05db2f6ba7542a37fa39141d8b6cded5",
     "grade": false,
     "grade_id": "cell-f699ee88821ab55e",
     "locked": true,
     "schema_version": 1,
     "solution": false
    }
   },
   "source": [
    "## Problem 5\n",
    "Puffins (unfortunalely) also die due to natural causes. Write a new function `deathrate1(npuffins, age)` that takes as arguments the number of Puffins and their age and returns the estimated number of Puffins that die in each year due to natural causes. Use `age=3` for all adults. Use the following values for the death rate:\n",
    "* 20% of newborn Puffins, i.e., `age=0`, die in each year.\n",
    "* 5% of Puffins of age 1, i.e., `age=1`, die in each year.\n",
    "* 1% of Puffins of age 2, i.e., `age=2`, die in each year.\n",
    "* 0.2% of adult Puffins, i.e., `age=3`, die in each year."
   ]
  },
  {
   "cell_type": "code",
   "execution_count": 10,
   "metadata": {
    "deletable": false,
    "nbgrader": {
     "checksum": "b6b4d6291d2d6ac37e85bbd882bd7b02",
     "grade": false,
     "grade_id": "cell-268fa507e371dc9c",
     "locked": false,
     "schema_version": 1,
     "solution": true
    }
   },
   "outputs": [],
   "source": [
    "def deathrate1(npuffins, age):\n",
    "    '''return the estimated number of Puffins of a given age \n",
    "    that die in each year due to natural causes.    \n",
    "    '''\n",
    "    if age==0:\n",
    "        return npuffins*0.2\n",
    "    if age==1:\n",
    "        return npuffins*0.05\n",
    "    if age==2:\n",
    "        return npuffins*0.01\n",
    "    if age==3:\n",
    "        return npuffins*0.002\n",
    "    raise ValueError('age must be 0 an 3')"
   ]
  },
  {
   "cell_type": "code",
   "execution_count": 11,
   "metadata": {
    "deletable": false,
    "editable": false,
    "nbgrader": {
     "checksum": "9c8d3686efb08142bf3203bc0a0ed737",
     "grade": true,
     "grade_id": "cell-451119b839f1dcaf",
     "locked": true,
     "points": 2,
     "schema_version": 1,
     "solution": false
    }
   },
   "outputs": [
    {
     "name": "stdout",
     "output_type": "stream",
     "text": [
      "tests pass\n"
     ]
    }
   ],
   "source": [
    "assert deathrate1(25, 0) == 5\n",
    "assert deathrate1(100, 1) == 5\n",
    "assert deathrate1(1000, 2) == 10\n",
    "assert deathrate1(23443, 3) == 46.886\n",
    "assert deathrate1(100, 1) == 5\n",
    "print('tests pass')"
   ]
  },
  {
   "cell_type": "markdown",
   "metadata": {
    "deletable": false,
    "editable": false,
    "nbgrader": {
     "checksum": "5875a4245e9358207f7c30061c4ff48e",
     "grade": false,
     "grade_id": "cell-30c57660fa96ffbb",
     "locked": true,
     "schema_version": 1,
     "solution": false
    }
   },
   "source": [
    "## Problem 5\n",
    "Well, it turns out that if there are too many Puffins there's not enough food to go around and the death rate increase for Puffins of all ages. Denote by `ntotal` the total number of Puffins of all ages, i.e., `ntotal=nage0+nage1+nage2+nadults`. The Puffin scientists (Puffintists?) have figured out that the death rates in problem 4 are correct as long as the total number of Puffins is at most 10000, i.e., `ntotal<=10000`. If the number of Puffins is above this number the death rate increase by a factor `ntotal/10000` (this means you need to multiply the previous deathrate by `ntotal/10000` if `ntotal>10000`. Write a new function `deathrate2(npuffins, age, ntotal)` that takes this into account."
   ]
  },
  {
   "cell_type": "code",
   "execution_count": 20,
   "metadata": {
    "deletable": false,
    "nbgrader": {
     "checksum": "d48eeeaedf7f87a58aea43e54ef544c5",
     "grade": false,
     "grade_id": "cell-cc81067e40f4f635",
     "locked": false,
     "schema_version": 1,
     "solution": true
    }
   },
   "outputs": [],
   "source": [
    "def deathrate2(npuffins, age, ntotal):\n",
    "    '''return the estimated number of Puffins of a given age \n",
    "    that die in each year due to natural causes. takes into account \n",
    "    food scarcity causes by the population growing too large.\n",
    "    \n",
    "    '''\n",
    "    if ntotal<=10000:\n",
    "        return deathrate1(npuffins,age)\n",
    "    return deathrate1(npuffins,age)*ntotal/10000"
   ]
  },
  {
   "cell_type": "code",
   "execution_count": 21,
   "metadata": {
    "deletable": false,
    "editable": false,
    "nbgrader": {
     "checksum": "c91134a56c580cc84029ebc6fda1c6d1",
     "grade": true,
     "grade_id": "cell-f61b3acfacd73561",
     "locked": true,
     "points": 2,
     "schema_version": 1,
     "solution": false
    }
   },
   "outputs": [
    {
     "name": "stdout",
     "output_type": "stream",
     "text": [
      "tests pass\n"
     ]
    }
   ],
   "source": [
    "tol = 0.01\n",
    "assert deathrate2(100, 0, 1000) == 20\n",
    "assert deathrate2(100, 0, 20000) == 40\n",
    "assert deathrate2(25, 0, 25) == 5\n",
    "assert deathrate2(100, 1, 100) == 5\n",
    "assert deathrate2(1000, 2, 1000) == 10\n",
    "assert abs(deathrate2(23443, 3, 23445) - 109.924227) < tol\n",
    "assert deathrate2(100, 1, 100) == 5\n",
    "print('tests pass')"
   ]
  },
  {
   "cell_type": "markdown",
   "metadata": {
    "deletable": false,
    "editable": false,
    "nbgrader": {
     "checksum": "251cd9e7968932bd4cd3beec67f5a13e",
     "grade": false,
     "grade_id": "cell-3e5eb1f22ae148f5",
     "locked": true,
     "schema_version": 1,
     "solution": false
    }
   },
   "source": [
    "## Problem 6\n",
    "There's a bug in the deathrate2 function. Specifically, it's possible for the function to report a total number of deaths that is larger than the number of Puffins given. Write a new function `deathrate3(npuffins, age, ntotal)` that never returns a value larger that `npuffins`. You can do this with only one additional line of code."
   ]
  },
  {
   "cell_type": "code",
   "execution_count": 14,
   "metadata": {
    "deletable": false,
    "nbgrader": {
     "checksum": "48acfa7782495c0918a33ed708aba9fc",
     "grade": false,
     "grade_id": "cell-cc1d1e5eb925f8e2",
     "locked": false,
     "schema_version": 1,
     "solution": true
    }
   },
   "outputs": [],
   "source": [
    "def deathrate3(npuffins, age, ntotal):\n",
    "    '''return the estimated number of Puffins of a given age \n",
    "    that die in each year due to natural causes. takes into account \n",
    "    food scarcity causes by the population growing too large.\n",
    "    \n",
    "    '''\n",
    "    if deathrate2(npuffins,age,ntotal)>npuffins:\n",
    "        return npuffins\n",
    "    return deathrate2(npuffins,age,ntotal)"
   ]
  },
  {
   "cell_type": "code",
   "execution_count": 15,
   "metadata": {
    "deletable": false,
    "editable": false,
    "nbgrader": {
     "checksum": "ed97a8feb63d23207e6d0f269ad96732",
     "grade": true,
     "grade_id": "cell-39bcf2706e6ab203",
     "locked": true,
     "points": 1,
     "schema_version": 1,
     "solution": false
    }
   },
   "outputs": [
    {
     "name": "stdout",
     "output_type": "stream",
     "text": [
      "tests pass\n"
     ]
    }
   ],
   "source": [
    "tol = 0.01\n",
    "assert deathrate3(100, 0, 1000) == 20\n",
    "assert deathrate3(100, 0, 20000) == 40\n",
    "assert deathrate3(25, 0, 25) == 5\n",
    "assert deathrate3(100, 1, 100) == 5\n",
    "assert deathrate3(1000, 2, 1000) == 10\n",
    "assert abs(deathrate3(23443, 3, 23445) - 109.924227) < tol\n",
    "assert deathrate3(100, 1, 100) == 5\n",
    "assert deathrate3(10, 0, 60000) == 10\n",
    "assert deathrate3(11, 1, 10000*21) == 11\n",
    "assert deathrate3(12, 2, 10000*101) == 12\n",
    "assert deathrate3(14, 3, 10000*501) == 14\n",
    "print('tests pass')"
   ]
  },
  {
   "cell_type": "markdown",
   "metadata": {
    "deletable": false,
    "editable": false,
    "nbgrader": {
     "checksum": "bd4c6934dc01c399ffa277d19d81294e",
     "grade": false,
     "grade_id": "cell-83dd59382c64b6ed",
     "locked": true,
     "schema_version": 1,
     "solution": false
    }
   },
   "source": [
    "## Problem 7\n",
    "For the final problem we're going to include the deathrate in our simulation of the Puffin population. Write a new function `simulate2(nage0, nage1, nage2, nadults)`. This function should work like the one you wrote for problem 4 except that it should also include the deathrate.\n",
    "* Use the `deathrate3` function to compute the death rate. The death rate is computed based on the number of Puffins after the hunting quota is subtracted.\n",
    "* The hunting quota (computed using `quota3`) should be computed based on the number of Puffins at the beginning of the year, i.e., before the death rate is applied and before `nage2` is added to the number of adults. Adding `nage2` to `nadults` should be the final step."
   ]
  },
  {
   "cell_type": "code",
   "execution_count": 18,
   "metadata": {
    "deletable": false,
    "nbgrader": {
     "checksum": "5f550a4d5aa7a91e9b5e06217e6aab18",
     "grade": false,
     "grade_id": "cell-f1b454b2c2f9acb6",
     "locked": false,
     "schema_version": 1,
     "solution": true
    }
   },
   "outputs": [],
   "source": [
    "def simulate2(nage0, nage1, nage2, nadults):\n",
    "    '''\n",
    "    returns the number of adult Puffins at the end of the year \n",
    "    based on the number of Puffins at the beginning of the year.\n",
    "    takes death rate into account.\n",
    "    \n",
    "    args:\n",
    "    \n",
    "    nage0: number of Puffins at age 0 (newborns)\n",
    "    \n",
    "    nage1, nage2: number of Puffins of age 1, 2.\n",
    "    \n",
    "    nadult: number of adult Puffins.\n",
    "    \n",
    "    returns: the number of adult Puffins at the end of the year.\n",
    "    '''\n",
    "    # smiertelnosc dla 2 gen.\n",
    "    \n",
    "    nchicks=nage0+nage1+nage2\n",
    "    nadults-=quota3(nchicks,nadults)\n",
    "    \n",
    "    total=nchicks+nadults\n",
    "    nage2 -= deathrate3(nage2, 2, total)\n",
    "    print('nage2', nage2)\n",
    "    nadults -= deathrate3(nadults, 3, total)\n",
    "    nadults += nage2\n",
    "    return nadults\n",
    "    \n",
    "    '''\n",
    "    npuffins=nage0+nage1+nage2\n",
    "    \n",
    "    gen2=deathrate3(nage2,2,nadults-quota3(npuffins,nadults))\n",
    "    gen3=deathrate3(nadults-quota3(npuffins,nadults),3,nadults-quota3(npuffins,nadults))\n",
    "    return nadults-quota3(npuffins,nadults)-gen3+nage2-gen2\n",
    "    '''\n",
    "    "
   ]
  },
  {
   "cell_type": "code",
   "execution_count": 22,
   "metadata": {
    "deletable": false,
    "editable": false,
    "nbgrader": {
     "checksum": "bea0eb6c070ed9de37288f8ef5d166a1",
     "grade": true,
     "grade_id": "cell-f7fedc0dd4800f6a",
     "locked": true,
     "points": 3,
     "schema_version": 1,
     "solution": false
    }
   },
   "outputs": [
    {
     "name": "stdout",
     "output_type": "stream",
     "text": [
      "nage2 11.88\n",
      "nage2 39.6\n",
      "nage2 2.97\n",
      "nage2 2.97\n",
      "nage2 319.529151\n",
      "nage2 2374.002\n",
      "tests pass\n"
     ]
    }
   ],
   "source": [
    "tol = 0.01\n",
    "assert abs(simulate2(10, 11, 12, 30) - 32.838) < tol, simulate2(10, 11, 12, 30)\n",
    "assert abs(simulate2(20, 10, 40, 302) - 250.5772) < tol, simulate2(20, 10, 40, 302)\n",
    "assert abs(simulate2(100, 2, 3, 400) - 282.41) < tol, simulate2(100, 2, 3, 400)\n",
    "assert abs(simulate2(100, 2, 3, 4000) - 3994.97) < tol, simulate2(100, 2, 3, 4000)\n",
    "assert abs(simulate2(100, 20, 333, 40000) - 39995.905151) < tol, simulate2(100, 20, 333, 40000)\n",
    "assert abs(simulate2(133333, 2333, 3000, 100000) - 69452.678) < tol, simulate2(133333, 2333, 3000, 100000)\n",
    "print('tests pass')"
   ]
  },
  {
   "cell_type": "markdown",
   "metadata": {
    "deletable": false,
    "editable": false,
    "nbgrader": {
     "checksum": "8e2096a4c9bf30e0e7e204fd9f34ad6f",
     "grade": false,
     "grade_id": "cell-3aa69e390e07b32c",
     "locked": true,
     "schema_version": 1,
     "solution": false
    }
   },
   "source": [
    "## Getting Ahead\n",
    "Congratulations on completing the assignment! Nice work :)\n",
    "\n",
    "This assignment will ultimately do little to alleviate the problems the Puffins of today face. However, while we've made several simplifying assumptions the general method used above is applicable to a wide range of scenarios in the real world. Scientists and decision makers rely on models not unlike this one in every field imaginable. The beauty of programming (and Python is an especially good example) is that it gives you access to the tools you need to reason about the world. Even a simple program like this can offer a surprising amount of insight into complex problems.\n",
    "\n",
    "One of the shortcomings of our system is that it only simulates a single year. To design policy we need to simulate the population over many years. Hence, for the getting ahead part we're goubg to write a new function `nsimulate(years, nage0, nage1, nage2, nadults)` that simulautes `years` years of the population and returns the number of adult Puffins at the end of this period. The function should take as arguments the number of years to simulate and the number of Puffins at the start of the first year. Each year should behave like in `simulate2` that we wrote for problem 7. To do this you'll need to [learn about for loops](https://www.youtube.com/watch?v=9LgyKiq_hU0). Remember that you need to update the number of Puffins of each age for each cycle of the simulation. Assume that each adult Puffin (as counted by the end of the year, i.e., after the death rate and hunting quota has been subtracted and after `nage2` has been added to `nadults`) has 0.4 chicks in each year, i.e., `nage0` for the next year is computed as `nage0 = nadults * 0.4`, where `nadults` is the number of adults at the end of the current year.\n",
    "\n",
    "This part is meant as preparation for the coming course material and includes materiel not yet covered in the course. Then again, you never have to catch up if you're always getting ahead."
   ]
  },
  {
   "cell_type": "code",
   "execution_count": 23,
   "metadata": {
    "deletable": false,
    "nbgrader": {
     "checksum": "5ac925c74d8a1d20d8099bd9f0614085",
     "grade": false,
     "grade_id": "cell-1b7041bc1bc8e232",
     "locked": false,
     "schema_version": 1,
     "solution": true
    }
   },
   "outputs": [],
   "source": [
    "def nsimulate(years, nage0, nage1, nage2, nadults):\n",
    "    '''\n",
    "    returns the number of adult Puffins at the end of years years \n",
    "    based on the number of Puffins at the beginning of the year 0.\n",
    "    takes death rate into account.\n",
    "    \n",
    "    args:\n",
    "    \n",
    "    years: the number of years to simulate.\n",
    "    \n",
    "    nage0: number of Puffins at age 0 (newborns) at the beginning of year 0.\n",
    "    \n",
    "    nage1, nage2: number of Puffins of age 1, 2 at the beginning of year 0.\n",
    "    \n",
    "    nadult: number of adult Puffins at the beginning of year 0.\n",
    "    \n",
    "    returns: the number of adult Puffins after years years.\n",
    "    '''\n",
    "     # YOUR CODE HERE\n",
    "    \n",
    "    for _ in range(years):\n",
    "         \n",
    "        nchicks=nage0+nage1+nage2\n",
    "        nadults-=quota3(nchicks,nadults)\n",
    "        total=nchicks+nadults\n",
    "        nage2 -= deathrate3(nage2, 2, total)\n",
    "        nage0 -= deathrate3(nage0, 0, total)\n",
    "        nage1 -= deathrate3(nage1, 1, total)\n",
    "        nadults -= deathrate3(nadults, 3, total)\n",
    "        \n",
    "        nadults += nage2\n",
    "        nage2 = nage1\n",
    "        nage1 = nage0\n",
    "        nage0 = nadults*0.4\n",
    "        \n",
    "    return nadults\n",
    "   \n",
    " \n",
    "  \n"
   ]
  },
  {
   "cell_type": "code",
   "execution_count": 24,
   "metadata": {
    "deletable": false,
    "editable": false,
    "nbgrader": {
     "checksum": "39b5173210e2208ae368917c0c394010",
     "grade": true,
     "grade_id": "cell-e0f4372b3388371b",
     "locked": true,
     "points": 2,
     "schema_version": 1,
     "solution": false
    }
   },
   "outputs": [
    {
     "name": "stdout",
     "output_type": "stream",
     "text": [
      "tests pass\n"
     ]
    }
   ],
   "source": [
    "tol = 0.01\n",
    "assert abs(nsimulate(10, 10, 11, 15, 32) - 34.26521955455017) < tol, nsimulate(10, 10, 11, 15, 32)\n",
    "assert abs(nsimulate(11, 1, 2, 3, 30) - 16.54276141994387) < tol, nsimulate(11, 1, 2, 3, 30)\n",
    "assert abs(nsimulate(12, 100, 2, 3, 400) - 223.68173879099925) < tol, nsimulate(12, 100, 2, 3, 400)\n",
    "assert abs(nsimulate(5, 100, 2, 3, 4000) - 2669.359577430396) < tol, nsimulate(5, 100, 2, 3, 4000)\n",
    "assert abs(nsimulate(4, 100, 20, 333, 40000) - 15011.789929962835) < tol, nsimulate(4, 100, 20, 333, 40000)\n",
    "assert abs(nsimulate(33, 133333, 2333, 3000, 100000) - 6444.8841810316235) < tol, nsimulate(33, 133333, 2333, 3000, 100000)\n",
    "print('tests pass')"
   ]
  },
  {
   "cell_type": "markdown",
   "metadata": {
    "deletable": false,
    "editable": false,
    "nbgrader": {
     "checksum": "e4a0c0a04650c1389bac16bf6aa56c3d",
     "grade": false,
     "grade_id": "cell-ceb47ba96e015c7d",
     "locked": true,
     "schema_version": 1,
     "solution": false
    }
   },
   "source": [
    "If you did it, nice work!\n",
    "\n",
    "Feel free to keep playing around with creating new hunting policies. Can you create a better or more realistic policy than the one we've considered? Try experimenting with this system by writing a program that you can run locally on your own computer. Otherwise no more content for this week!"
   ]
  }
 ],
 "metadata": {
  "kernelspec": {
   "display_name": "Python 3",
   "language": "python",
   "name": "python3"
  },
  "language_info": {
   "codemirror_mode": {
    "name": "ipython",
    "version": 3
   },
   "file_extension": ".py",
   "mimetype": "text/x-python",
   "name": "python",
   "nbconvert_exporter": "python",
   "pygments_lexer": "ipython3",
   "version": "3.6.5"
  }
 },
 "nbformat": 4,
 "nbformat_minor": 2
}
