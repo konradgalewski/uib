{
 "cells": [
  {
   "cell_type": "markdown",
   "metadata": {},
   "source": [
    "Before you turn this problem in, make sure everything runs as expected. First, **restart the kernel** (in the menubar, select Kernel$\\rightarrow$Restart) and then **run all cells** (in the menubar, select Cell$\\rightarrow$Run All).\n",
    "\n",
    "Make sure you fill in any place that says `YOUR CODE HERE` or `YOUR ANSWER HERE`, as well as your name and collaborators below:"
   ]
  },
  {
   "cell_type": "code",
   "execution_count": 1,
   "metadata": {},
   "outputs": [],
   "source": [
    "NAME = \"\"\n",
    "COLLABORATORS = \"\""
   ]
  },
  {
   "cell_type": "markdown",
   "metadata": {},
   "source": [
    "---"
   ]
  },
  {
   "cell_type": "markdown",
   "metadata": {
    "deletable": false,
    "editable": false,
    "nbgrader": {
     "checksum": "df3d6a57ed1abceb2dc3409a3ce433ed",
     "grade": false,
     "grade_id": "cell-1565a6216afdc1e4",
     "locked": true,
     "schema_version": 1,
     "solution": false
    }
   },
   "source": [
    "# Assignment Week 3\n",
    "\n",
    "Welcome to the third weekly assignment! Every week we'll give you an assignment that covers the materiel from the previous week. Again, these assignment are not obligatory but are highly recommended.\n",
    "\n",
    "You've landed a job at the [Lon Lon Ranch](http://zelda.wikia.com/wiki/Lon_Lon_Ranch). The ranch stock a wide range of items and it's your job to keep track of what it's all worth. Specifically, you've been tasked with writing a function that given an item name, its age and (optionally) further information returns the value of the item. Items (such as milk) may change in value over time.\n",
    "\n",
    "This assignment differs from the previous one in that you'll be working on the same function throughout the whole assignment. Initially the function will be short. However, as more items and rules are added you'll need to add more things to the function. Keep in mind that adding additional functions that are called from the main function is a good strategy to keep each function simple and easy to reason about. Furthermore, you'll need to take some care to figure out what's wrong when the tests don't work.\n",
    "\n",
    "## General Guidelines\n",
    "These are general guidelines that will (hopefully) help you preserve your sanity through your programming endeavours.\n",
    "* Set aside time to clean up your code. The number that gets bandied around on the internet is that the best programmers spend roughly half their time cleaning up and rewriting their code, i.e., you are halfway done when you get it working.\n",
    "* The sooner you start programming the longer it takes, i.e., make sure you understand the problem and have an idea for how to solve it before you get started.\n",
    "* Make sure you understand the current assignment before moving on. Building on bedrock is better than building on sand.\n",
    "* You should be spending a significant amount of time on [Stack Overflow](https://stackoverflow.com/) and [Google](https://duckduckgo.com/?q=how+to+python). Even experienced programmers do this.\n",
    "* [PEP8](https://www.python.org/dev/peps/pep-0008/) is the official Python style guilde. Following these guidelines makes sure your code is neat and easy to read.\n",
    "\n",
    "## Function\n",
    "You'll be working in the code cell below throughout the whole assignment. As we're adding more items and rules you should make modifications as needed to this function. **Make sure to re-run the whole notebook by pressing the double play button at the top (restart the kernel, then re-run the whole notebook) whenever you make any changes.** This is due to two reasons:\n",
    "* You need to rerun a cell with code in it whenever you make changes for the changes to take effect.\n",
    "* You should re-run all tests whenever you change something to make sure your change didn't break an earlier test.\n",
    "Re-running the whole notebook takes care of this automatically.\n",
    "\n",
    "The [signature](https://en.wikipedia.org/wiki/Type_signature) of the function you'll be working on is `get_value(item_name, item_age, item_details)`. The parameters are:\n",
    "* item_name: A string containing the item name, e.g., \"milk\".\n",
    "* item_age: The age of the item measured in days.\n",
    "* item_details: A string containing further details about the item, e.g., \"lon lon\". For items with no details this argument should be the empty string (`\"\"`).\n",
    "\n",
    "When learning programming as you do now it's common to look back on the code written by past you and wonder what in the world he/she was thinking. This is good because it means present you is a stronger programmer than past you. However, it also means present you has to keep correcting the things past you wrote. Therefore, it's important that you go back and clean up your code after completing each problem.\n",
    "\n",
    "#### Python Tip: Functions, Parameters, Arguments and Return Values\n",
    "Remember that when a function is called (e.g., `get_value(\"milk\", 2*7, \"\")`) the *actual argument* values are computed and placed in the *formal parameter* variables (e.g., `item_name = 'milk'`, `item_age = 14`, `item_details = ''`). When the function reaches the `return` statement, the *return value* is computed and becomes the value of the function call."
   ]
  },
  {
   "cell_type": "code",
   "execution_count": 2,
   "metadata": {
    "deletable": false,
    "nbgrader": {
     "checksum": "ef840a14f4961f1846b171165e5be2fe",
     "grade": false,
     "grade_id": "cell-dd49ba701655981b",
     "locked": false,
     "schema_version": 1,
     "solution": true
    }
   },
   "outputs": [],
   "source": [
    "def get_value_cheese(age):\n",
    "   \n",
    "        v=0\n",
    "        if age<30:\n",
    "            return 100\n",
    "        if age>=30 and age<360:\n",
    "            for i in range(30,age):\n",
    "                v=v+3\n",
    "                #print(age,v,i)\n",
    "            return v+100\n",
    "        if age>=360 and age<720:\n",
    "            for i in range(30,360):\n",
    "                v=v+3\n",
    "            for i in range(360,age):\n",
    "                v=v+4\n",
    "            return v+100\n",
    "        if age>=720:\n",
    "            for i in range(30,360):\n",
    "                v=v+3\n",
    "            for i in range(360,720):\n",
    "                v=v+4\n",
    "            for i in range(720,age):\n",
    "                v=v-10\n",
    "            v=v+100\n",
    "            if v<0:\n",
    "                v=0\n",
    "            return v\n",
    "        \n",
    "def get_value_whisky(age, cask_type, quality):\n",
    "    \n",
    "    \"\"\"Any whisky younger than 360 days has value 0.\n",
    "Whisky between 360 (inclusive) and 720 days has value 300 rupees.\n",
    "Starting at day 720 the value of whisky increases by\n",
    "1% per 30 days for \"ex-sherry\" cask.\n",
    "2% per 30 days for \"ex-bourbon\" cask.\n",
    "3% per 30 days for \"ex-amarone\" cask.\n",
    "The value of the whisky remains constant between 30 day increments, i.e., you need to round down to the closest multiple of 30 days.\n",
    "The overall value of the whisky should be multiplied by the quality, which is greater than 0 and at most 1.\"\"\"\n",
    "    v=0\n",
    "    if age<360:\n",
    "        return v\n",
    "    if age>=360 and age <720:\n",
    "        v=300\n",
    "        print(quality)\n",
    "        return v*quality\n",
    "    if age>=720:\n",
    "        if cask_type==\"ex-sherry\":\n",
    "            v=300*pow(1.01, int(age/30-720/30))\n",
    "            return v*quality\n",
    "        \n",
    "        if cask_type==\"ex-bourbon\":\n",
    "            v=300*pow(1.02, int(age/30-720/30))\n",
    "            return v*quality\n",
    "        \n",
    "        if cask_type==\"ex-amarone\":\n",
    "            v=300*pow(1.03, int(age/30-720/30))\n",
    "            return v*quality\n",
    "        \n",
    "    \n",
    "    \n",
    "    \n",
    "                \n",
    "def get_value(item_name, item_age, item_details):\n",
    "    '''return the value of an item based on its name,  age and any further details given.\n",
    "    \n",
    "    args:\n",
    "\n",
    "    item_name: the name of the item. given as a string.\n",
    "  \n",
    "    item_age: the age of the item measured in days.\n",
    "    \n",
    "    item_details: a string containing further details about the item. is the empty string (\"\") \n",
    "    for items with no details. \n",
    "    \n",
    "    '''\n",
    "   \n",
    "    if item_name.lower().strip().replace(\" \" ,\"\")==\"whisky\":\n",
    "        cask_type, quality = item_details.split(\",\")\n",
    "        #print(quality)\n",
    "        return get_value_whisky(item_age,cask_type, float(quality))\n",
    "    \n",
    "    if item_name.lower().strip().replace(\" \" ,\"\")==\"agedcheese\":\n",
    "        return get_value_cheese(item_age)\n",
    "    if item_name.lower().strip().replace(\" \" ,\"\")==\"milk\":\n",
    "            if item_age<=14:\n",
    "                if item_age<=7:\n",
    "                    if item_details.lower().strip().replace(\" \",\"\")==\"premium\":\n",
    "                        return 200\n",
    "                    if item_details.lower().strip().replace(\" \",\"\")==\"lonlon\":\n",
    "                        return 150\n",
    "                    return 100\n",
    "                if item_details.lower().strip().replace(\" \",\"\")==\"premium\":\n",
    "                    return 150\n",
    "                if item_details.lower().strip().replace(\" \",\"\")==\"lonlon\":\n",
    "                    return 150\n",
    "                return 100\n",
    "            return 0\n",
    "    if item_name.lower().strip().replace(\" \" ,\"\")==\"emptybottle\":\n",
    "        return 1000\n",
    "    return None\n",
    "    \n",
    "  \n",
    "\n",
    "    \n",
    "    \n",
    "    '''\n",
    "    if item_name==\"milk\":\n",
    "        if item_age<=7 and item_details ==\"premium\":\n",
    "            return 200\n",
    "        if (item_age<=14 and item_details!=\"lon lon\") and (item_age>7 and item_details!=\"lon lon\"):\n",
    "            return 100\n",
    "        if item_age<=14 and item_details==\"lon lon\" or item_details==\"premium\":\n",
    "            return 150\n",
    "        return 0\n",
    "    return 1000\n",
    "    '''"
   ]
  },
  {
   "cell_type": "markdown",
   "metadata": {
    "deletable": false,
    "editable": false,
    "nbgrader": {
     "checksum": "6870333d478324d3892b01a1af5c4877",
     "grade": false,
     "grade_id": "cell-c781279ef0cef783",
     "locked": true,
     "schema_version": 1,
     "solution": false
    }
   },
   "source": [
    "## Problem 1\n",
    "One of the items stocked by the ranch is empty bottles. As you probably know these are some of the most valuable items in the world. Hence, the Talon, the owner of the ranch, has decided to sell them for 1000 rupees each. Update the `get_value` function so that it returns 1000 when called with these arguments:\n",
    "* item_name: \"empty bottle\"\n",
    "* item_age: Arbitrary value. Doesn't matter.\n",
    "* item_details: \"\" (the empty string)\n",
    "\n",
    "#### Hey, listen! if statements\n",
    "```python\n",
    "if 2+2 < 5: # run the indented code if condition is true\n",
    "    print(\"true\")\n",
    "    # do more stuff if you want, e.g. 'return' or 'a = b', or something\n",
    "```"
   ]
  },
  {
   "cell_type": "code",
   "execution_count": 3,
   "metadata": {
    "deletable": false,
    "editable": false,
    "nbgrader": {
     "checksum": "6d9c8bb8c1fb2459cd9a148049d456f7",
     "grade": true,
     "grade_id": "cell-e1f7c8f2bae79f2e",
     "locked": true,
     "points": 2,
     "schema_version": 1,
     "solution": false
    }
   },
   "outputs": [
    {
     "name": "stdout",
     "output_type": "stream",
     "text": [
      "Problem 1:    tests pass\n"
     ]
    }
   ],
   "source": [
    "def assertEquals(a, b, tol=0):\n",
    "    if isinstance(a, float) or isinstance(b, float):\n",
    "        assert abs(a-b) <= tol, f'expected {b}, got {a}'\n",
    "    else:\n",
    "        assert a == b, f'expected {b}, got {a}'\n",
    "    \n",
    "def testProblem1():\n",
    "    print(\"Problem 1:\", end='')\n",
    "    assertEquals(get_value(\"empty bottle\", 0, \"\"), 1000)\n",
    "    assertEquals(get_value(\"empty bottle\", None, \"\"), 1000)\n",
    "    assertEquals(get_value(\"empty bottle\", -10, \"\"), 1000)\n",
    "    print(\"    tests pass\")\n",
    "\n",
    "testProblem1()"
   ]
  },
  {
   "cell_type": "markdown",
   "metadata": {
    "deletable": false,
    "editable": false,
    "nbgrader": {
     "checksum": "7ae172727bbce3d08fbfb2b4377f57f9",
     "grade": false,
     "grade_id": "cell-0d5665cbdc92728a",
     "locked": true,
     "schema_version": 1,
     "solution": false
    }
   },
   "source": [
    "## Problem 2\n",
    "`\"milk\"` is one of the most important products produced at Lon Lon Ranch. Milk is sold for 100 rupees per bottle. However, milk spoils and becomes worthless when it gets too old! Talon has decided that milk older than 14 days cannot be sold. Update your function to return 100 when called with `\"milk\"` for the item name and an age at most 14 days. If the age is larger than 14 days it should return 0. The item description should be the empty string (`\"\"`).\n",
    "\n",
    "#### Hey, listen! multiple conditions\n",
    "```python\n",
    "a = 10\n",
    "if a > 5 and a < 15: # run the indented code if a is greater than 5 and smaller than 15\n",
    "    return \"5 > a < 15\"\n",
    "    # do more stuff if you want, e.g. 'return' or 'a = b', or something\n",
    "```"
   ]
  },
  {
   "cell_type": "code",
   "execution_count": 4,
   "metadata": {
    "deletable": false,
    "editable": false,
    "nbgrader": {
     "checksum": "63557dc5511d1e93c35ed09e4e16f3d6",
     "grade": true,
     "grade_id": "cell-45eb2240cd28593e",
     "locked": true,
     "points": 2,
     "schema_version": 1,
     "solution": false
    }
   },
   "outputs": [
    {
     "name": "stdout",
     "output_type": "stream",
     "text": [
      "Problem 2:    tests pass\n",
      "Problem 1:    tests pass\n"
     ]
    }
   ],
   "source": [
    "def testProblem2():\n",
    "    print(\"Problem 2:\", end='')\n",
    "    assertEquals(get_value(\"milk\", 0, \"\"), 100)\n",
    "    assertEquals(get_value(\"milk\", 13, \"\"), 100)\n",
    "    assertEquals(get_value(\"milk\", 14, \"\"), 100)\n",
    "    assertEquals(get_value(\"milk\", 15, \"\"), 0)\n",
    "    assertEquals(get_value(\"milk\", 14.01, \"\"), 0)\n",
    "    print(\"    tests pass\")\n",
    "\n",
    "testProblem2()\n",
    "testProblem1()"
   ]
  },
  {
   "cell_type": "markdown",
   "metadata": {
    "deletable": false,
    "editable": false,
    "nbgrader": {
     "checksum": "d165316668eb02e10389bf0bf7302593",
     "grade": false,
     "grade_id": "cell-202c6e6c7ee8a394",
     "locked": true,
     "schema_version": 1,
     "solution": false
    }
   },
   "source": [
    "## Problem 3\n",
    "Lon Lon Ranch is a well-known brand name in Hyrule. Talon wants to exploit this fact to make more money by segmenting the market. The idea is to sell the same milk under two different labels. Update the `get_value` function to handle the following two cases. Make sure the previous tests still work after making the update.\n",
    "* **item_name: \"milk\", item_details: \"\"** – the value is 100 rupees for age <= 14 and 0 otherwise.\n",
    "* **item_name: \"milk\", item_details: \"lon lon\"** – the value is 150 rupees for age <= 14 and 0 otherwise.\n",
    "\n",
    "#### Hey, listen! returning mulitple alternatives\n",
    "You can combine `if` and `return` to return different values in different cases:\n",
    "```python\n",
    "def howMany(a):\n",
    "    if a == 0:\n",
    "        return \"none\"\n",
    "    if a == 1:\n",
    "        return \"one\"\n",
    "    if a < 3:\n",
    "        return \"some\"\n",
    "    return \"many\" # this one will happen if none of the above match\n",
    "```\n"
   ]
  },
  {
   "cell_type": "code",
   "execution_count": 5,
   "metadata": {
    "deletable": false,
    "editable": false,
    "nbgrader": {
     "checksum": "7ac7a7cd32415a32c48848dba953b615",
     "grade": true,
     "grade_id": "cell-b72ca823db5436a5",
     "locked": true,
     "points": 2,
     "schema_version": 1,
     "solution": false
    }
   },
   "outputs": [
    {
     "name": "stdout",
     "output_type": "stream",
     "text": [
      "Problem 3:    tests pass\n",
      "Problem 2:    tests pass\n",
      "Problem 1:    tests pass\n"
     ]
    }
   ],
   "source": [
    "def testProblem3():\n",
    "    print(\"Problem 3:\", end='')\n",
    "    assertEquals(get_value(\"milk\", 0, \"lon lon\"), 150)\n",
    "    assertEquals(get_value(\"milk\", 13, \"lon lon\"), 150)\n",
    "    assertEquals(get_value(\"milk\", 14, \"lon lon\"), 150)\n",
    "    assertEquals(get_value(\"milk\", 15, \"lon lon\"), 0)\n",
    "    assertEquals(get_value(\"milk\", 14.01, \"lon lon\"), 0)\n",
    "    assertEquals(get_value(\"milk\", 1000, \"lon lon\"), 0)\n",
    "    print(\"    tests pass\")\n",
    "    \n",
    "\n",
    "testProblem3()\n",
    "testProblem2()\n",
    "testProblem1()\n"
   ]
  },
  {
   "cell_type": "markdown",
   "metadata": {
    "deletable": false,
    "editable": false,
    "nbgrader": {
     "checksum": "3b6e2313e43dc953e8fd429b12b53409",
     "grade": false,
     "grade_id": "cell-05123c2c16474e18",
     "locked": true,
     "schema_version": 1,
     "solution": false
    }
   },
   "source": [
    "## Problem 4\n",
    "Talon's daughter Malon has figured out a way to make milk more delicious. They want to sell this new milk, referred to as premium milk, alongside the regular and Lon Lon milk to further segment the market. Premium milk can be sold at a higher price. However, consumers also expect a higher quality so it cannot be sold for as long as the others. Specifically, its value drops already after 7 days have passed. However, until its age exceeds 14 days it can still be sold as Lon Lon milk.\n",
    "\n",
    "You should write a new function `get_value_milk(age, item_details)` that gets called from the `get_value` function when it's given the item name `\"milk\"`. Write this function in the same code cell as the `get_value` function. Functions is a great way to separate functionality.\n",
    "\n",
    "* **item_name: \"milk\", item_details: \"premium\"** – value is 200 rupees for age <= 7 and 150 rupees for age between 7 (inclusive) and 14 days.\n",
    "\n",
    "#### Hey, listen! if and elif\n",
    "Use `if` with `elif` and/or `else` to select one of several alternatives:\n",
    "```python\n",
    "s = \"foo\"\n",
    "v = 10\n",
    "if s == \"foo\" and v < 8: # run the indented code if v is smaller than 8\n",
    "    print(\"v is less than 8\")\n",
    "     # do more stuff if you want, e.g. 'return' or 'a = b', or something\n",
    "elif s == \"foo\" and v < 12: # run if v is not smaller than 8 but is smaller than 12\n",
    "    print(\"v is less than 12 and not smaller than 8\")\n",
    "    # do more stuff if you want, e.g. 'return' or 'a = b', or something\n",
    "```\n",
    "\n",
    "In general, it is often better to use `elif`/`else` even if all your `if`s end with `return`, since that makes it clearer to the reader that we are selecting one of several alternatives:\n",
    "```python\n",
    "    # ....\n",
    "    if a == b:\n",
    "        return \"equal\"\n",
    "    else:  \n",
    "        return \"different\"\n",
    "```"
   ]
  },
  {
   "cell_type": "code",
   "execution_count": 6,
   "metadata": {
    "deletable": false,
    "editable": false,
    "nbgrader": {
     "checksum": "fbb4fa8718961fa85eba84a691d47990",
     "grade": true,
     "grade_id": "cell-2e0d2298149a955a",
     "locked": true,
     "points": 2,
     "schema_version": 1,
     "solution": false
    }
   },
   "outputs": [
    {
     "name": "stdout",
     "output_type": "stream",
     "text": [
      "Problem 4:    tests pass\n",
      "Problem 3:    tests pass\n",
      "Problem 2:    tests pass\n",
      "Problem 1:    tests pass\n"
     ]
    }
   ],
   "source": [
    "def testProblem4():\n",
    "    print(\"Problem 4:\", end='')\n",
    "    assertEquals(get_value(\"milk\", 0, \"premium\"), 200)\n",
    "    assertEquals(get_value(\"milk\", -1, \"premium\"), 200)\n",
    "    assertEquals(get_value(\"milk\", 6, \"premium\"), 200)\n",
    "    assertEquals(get_value(\"milk\", 7, \"premium\"), 200)\n",
    "    assertEquals(get_value(\"milk\", 8, \"premium\"), 150)\n",
    "    assertEquals(get_value(\"milk\", 7.01, \"premium\"), 150)\n",
    "    assertEquals(get_value(\"milk\", 1000, \"premium\"), 0)\n",
    "    assertEquals(get_value(\"milk\", 15, \"premium\"), 0)\n",
    "    assertEquals(get_value(\"milk\", 14.01, \"premium\"), 0)\n",
    "    print(\"    tests pass\")\n",
    "\n",
    "\n",
    "testProblem4()\n",
    "testProblem3()\n",
    "testProblem2()\n",
    "testProblem1()\n"
   ]
  },
  {
   "cell_type": "markdown",
   "metadata": {
    "deletable": false,
    "editable": false,
    "nbgrader": {
     "checksum": "690fcfcae2900f2e908ad33fcaa5f56c",
     "grade": false,
     "grade_id": "cell-f699ee88821ab55e",
     "locked": true,
     "schema_version": 1,
     "solution": false
    }
   },
   "source": [
    "## Problem 5\n",
    "Some of the employees at the ranch have trouble entering data correctly when calling the `get_value` function. You've seen all sorts of strange errors while looking over the shoulder of some of the employees!\n",
    "\n",
    "### a) Validating inputs\n",
    "What happens if you call `get_value` with a wrong item name – one that doesn't match any of your `if` statements? Try it in the cell below.\n",
    "\n",
    "* Depending on how you implemented `get_value` you might get an error, a strange answer, or a `None` result. What do you think would be a reasonable way to handle wrong item names?\n",
    "* The tests for Problems 1–4 probably haven't caught this problem at all – so we should probably also improve our tests a bit.\n",
    "\n",
    "We'll learn good ways of dealing with errors later, but for now, it's probably best to just `return None` if `get_value` is called with an unknown `item_name`.\n",
    "\n",
    "Update your `get_value` with a default alternative that returns `None` if you don't recognize the item name. (This might be a good place to use `else` if you have already been using `elif`.)\n",
    "\n",
    "After you've updated `get_value` (and re-run the notebook), try it in the cell below and check that it behaves properly. (You can even try to use `assert ... == None` or `assertEquals(..., None)` and make it a proper test case!)\n"
   ]
  },
  {
   "cell_type": "code",
   "execution_count": 7,
   "metadata": {},
   "outputs": [
    {
     "name": "stdout",
     "output_type": "stream",
     "text": [
      "None\n"
     ]
    }
   ],
   "source": [
    "print(get_value(\"wr0ng 1tem\", 0 ,\"\"))"
   ]
  },
  {
   "cell_type": "markdown",
   "metadata": {
    "deletable": false,
    "editable": false,
    "nbgrader": {
     "checksum": "e34203caa4dce6f444913e5371e22b42",
     "grade": false,
     "grade_id": "cell-9f6f97c891f48d08",
     "locked": true,
     "schema_version": 1,
     "solution": false
    }
   },
   "source": [
    "### b) Cleaning inputs\n",
    "Most of the errors made by the ranch employees can corrected easily. For example, these are the most common mistakes:\n",
    "* \"Lon Lon\"\n",
    "* \" lon lon\"\n",
    "* \"premium \"\n",
    "* \" Premium\"\n",
    "* \"lonlon\"\n",
    "* \" milk\"\n",
    "* \"Milk\"\n",
    "* \"MILK\"\n",
    "* \"Empty bottle\"\n",
    "* \"empty  bottle\" (double space)\n",
    "\n",
    "Update the `get_value` function to return the correct result in all of these cases. This will require you to learn about how to modify strings. Note that this has not been covered in the lectures yet. The functions `lower()` and `replace()` described on [this site](https://docs.python.org/3/library/stdtypes.html) are what you need. Use the notebook cell below or interactive terminal on your own machine to try these things out by typing things like `\"fooBAR\".lower()` into it. You need to understand how they work before you attempt to add them to your code.\n",
    "\n",
    "I recommend always comparing against a string with no spaces at all in your if statements, i.e.,  compare against `\"lonlon\"` instead of `\"lon lon\"`. This way you can strip all of the spaces and then make the comparison. It's easier to convert `\" lon  lon\"` into `\"lonlon\"` than `\"lon lon\"`. In addition to this change you should only need to add 2 or 4 new lines of code (depending on how you do it).\n",
    "\n",
    "(This is a case of input *normalization* – you transform all the different variants into a single, consistent form (the ‘normal form’) with only lowercase letters and no spaces. Note that there are other potential errors that we don't catch – for instance, what happens if someone enters a negative item age? We won't deal with this here, but we'll learn to be more careful later.)\n"
   ]
  },
  {
   "cell_type": "code",
   "execution_count": 8,
   "metadata": {},
   "outputs": [
    {
     "name": "stdout",
     "output_type": "stream",
     "text": [
      "milk\n",
      "milk\n",
      "milk\n"
     ]
    }
   ],
   "source": [
    "print(\"MiLK\".lower())\n",
    "print(\"m i l k\".replace(\" \", \"\"))\n",
    "print(\"M i L K\".lower().replace(\" \", \"\"))"
   ]
  },
  {
   "cell_type": "code",
   "execution_count": 9,
   "metadata": {
    "deletable": false,
    "editable": false,
    "nbgrader": {
     "checksum": "facc06631d4b76953b3bf801640ed11a",
     "grade": true,
     "grade_id": "cell-268fa507e371dc9c",
     "locked": true,
     "points": 2,
     "schema_version": 1,
     "solution": false
    }
   },
   "outputs": [
    {
     "name": "stdout",
     "output_type": "stream",
     "text": [
      "Problem 5:    tests pass\n",
      "Problem 4:    tests pass\n",
      "Problem 3:    tests pass\n",
      "Problem 2:    tests pass\n",
      "Problem 1:    tests pass\n"
     ]
    }
   ],
   "source": [
    "def testProblem5():\n",
    "    print(\"Problem 5:\", end='')\n",
    "    assertEquals(get_value(\"milk\", 0, \"Lon Lon\"), 150)\n",
    "    assertEquals(get_value(\"milk\", 6, \" premium \"), 200)\n",
    "    assertEquals(get_value(\"milk\", 7, \" Premium\"), 200)\n",
    "    assertEquals(get_value(\"Milk\", 6, \"premium\"), 200)\n",
    "    assertEquals(get_value(\"Milk\", 8, \"premium\"), 150)\n",
    "    assertEquals(get_value(\"milk \", 7.01, \"premium\"), 150)\n",
    "    assertEquals(get_value(\"MILK\", 1000, \"premium \"), 0)\n",
    "    assertEquals(get_value(\"milk\", 15, \" Premium\"), 0)\n",
    "    assertEquals(get_value(\"milk \", 14.01, \" PREMIUM  \"), 0)\n",
    "    assertEquals(get_value(\"MILK\", 6, \" Premium\"), 200)\n",
    "    assertEquals(get_value(\"Empty  Bottle\", 1000, \"\"), 1000)\n",
    "    assertEquals(get_value(\"Empty M1lk Böttle\", 1000, \"\"), None)\n",
    "    print(\"    tests pass\")\n",
    "\n",
    "\n",
    "testProblem5()\n",
    "testProblem4()\n",
    "testProblem3()\n",
    "testProblem2()\n",
    "testProblem1()\n"
   ]
  },
  {
   "cell_type": "markdown",
   "metadata": {
    "deletable": false,
    "editable": false,
    "nbgrader": {
     "checksum": "6ff38c46bc9117d43532b93b6c9b6f66",
     "grade": false,
     "grade_id": "cell-30c57660fa96ffbb",
     "locked": true,
     "schema_version": 1,
     "solution": false
    }
   },
   "source": [
    "## Problem 6\n",
    "The ranch has recently started producing `\"aged cheese\"`, which has the interesting property that its price increases up until a certain point at which it starts going down again. `item_details` should be the empty string. You should write a new function `get_value_cheese(age)` that gets called from the `get_value` function when it's called with the `\"aged cheese\"` argument. The rules for computing the value of aged cheese are:\n",
    "* Aged cheese younger than 30 days has value 100 rupees.\n",
    "* Aged cheese of age between 30 (inclusive) and 360 days increases in value by 3 rupees per day.\n",
    "* Aged cheese of age between 360 (inclusive) and 720 days increases in value by 4 rupees per day.\n",
    "* Aged cheese of age 720 days or older decreases in value by 10 rupees per day until its value reaches 0 where it remains, i.e., the value can't become negative.\n",
    "\n",
    "For example, the value of aged cheese that is 430 days old is 100+330\\*3+70\\*4=1340.\n",
    "\n",
    "#### Hey, listen! min and max\n",
    "You can use the built-in functions `min()` and `max()` to get the minimum or maximum between two numbers, e.g.,\n",
    "```python\n",
    "a = 10\n",
    "b = 100\n",
    "print(min(a, b)) # prints 10\n",
    "print(max(a, b)) # prints 100\n",
    "\n",
    "c = -10\n",
    "d = 0\n",
    "print(min(c, d)) # prints -10\n",
    "print(max(c, d)) # prints 0\n",
    "```"
   ]
  },
  {
   "cell_type": "code",
   "execution_count": 10,
   "metadata": {
    "deletable": false,
    "editable": false,
    "nbgrader": {
     "checksum": "65db908299d1f18a44ecae3b1bb07946",
     "grade": true,
     "grade_id": "cell-f61b3acfacd73561",
     "locked": true,
     "points": 3,
     "schema_version": 1,
     "solution": false
    }
   },
   "outputs": [
    {
     "name": "stdout",
     "output_type": "stream",
     "text": [
      "Problem 6:    tests pass\n",
      "Problem 5:    tests pass\n",
      "Problem 4:    tests pass\n",
      "Problem 3:    tests pass\n",
      "Problem 2:    tests pass\n",
      "Problem 1:    tests pass\n"
     ]
    }
   ],
   "source": [
    "def testProblem6():\n",
    "    print(\"Problem 6:\", end='')\n",
    "    assertEquals(get_value(\"aged cheese\", 0, \"\"), 100)\n",
    "    assertEquals(get_value(\"aged cheese\", 1, \"\"), 100)\n",
    "    assertEquals(get_value(\"aged cheese\", -1, \"\"), 100)\n",
    "    assertEquals(get_value(\"aged cheese\", 30, \"\"), 100)\n",
    "    assertEquals(get_value(\"agedcheese\", 0, \"\"), 100)\n",
    "    assertEquals(get_value(\"agedCheese\", 1, \"\"), 100)\n",
    "    assertEquals(get_value(\"Aged  Cheese\", 30, \"\"), 100)\n",
    "    assertEquals(get_value(\"aged cheese\", 31, \"\"), 103)\n",
    "    assertEquals(get_value(\"aged  cheese\", 359, \"\"), 1087)\n",
    "    assertEquals(get_value(\"Aged Cheese\", 360, \"\"), 1090)\n",
    "    assertEquals(get_value(\" aged  cheese \", 719, \"\"), 2526)\n",
    "    assertEquals(get_value(\" aged  cheese \", 720, \"\"), 2530)\n",
    "    assertEquals(get_value(\" aged  cheese \", 800, \"\"), 1730)\n",
    "    assertEquals(get_value(\" aged  cheese \", 971, \"\"), 20)\n",
    "    assertEquals(get_value(\" aged  cheese \", 972, \"\"), 10)\n",
    "    assertEquals(get_value(\" aged  cheese \", 973, \"\"), 0)\n",
    "    assertEquals(get_value(\" aged  cheese \", 1000, \"\"), 0)\n",
    "    assertEquals(get_value(\" aged  cheese \", 430, \"\"), 1370)\n",
    "    print(\"    tests pass\")\n",
    "\n",
    "testProblem6()\n",
    "testProblem5()\n",
    "testProblem4()\n",
    "testProblem3()\n",
    "testProblem2()\n",
    "testProblem1()\n"
   ]
  },
  {
   "cell_type": "markdown",
   "metadata": {
    "deletable": false,
    "editable": false,
    "nbgrader": {
     "checksum": "e49d6fce0232d34dcf5655baa5ff4220",
     "grade": false,
     "grade_id": "cell-3e5eb1f22ae148f5",
     "locked": true,
     "schema_version": 1,
     "solution": false
    }
   },
   "source": [
    "## Problem 7\n",
    "The final product produced at the ranch is `\"whisky\"`. Whisky is special in the sense that its value depends on both the cask type and the quality of the raw materials. The cask type can be one of `\"ex-sherry\"`, `\"ex-bourbon\"` and `\"ex-amarone\"`. Quality is expressed as a [floating point number](https://en.wikipedia.org/wiki/Floating-point_arithmetic) ([`float`](https://docs.python.org/3/library/stdtypes.html#numeric-types-int-float-complex)) between 0 and 1 (inclusive). These are given together as a single string with cask type and quality separated by a comma, e.g.,\n",
    "* `\"ex-sherry,0.7\"`\n",
    "* `\"ex-sherry,0.2\"`\n",
    "* `\"ex-amarone,0.99\"`\n",
    "* `\"ex-bourbon,0.112\"`\n",
    "\n",
    "The cask type always comes first and the quality is always after the comma. Since whisky is stored for much longer times than cheese its value should only change every 30 days. Specifically, the rules for whisky are\n",
    "* Any whisky younger than 360 days has value 0.\n",
    "* Whisky between 360 (inclusive) and 720 days has value 300 rupees.\n",
    "* Starting at day 720 the value of whisky increases by\n",
    "    * 1% per 30 days for `\"ex-sherry\"` cask.\n",
    "    * 2% per 30 days for `\"ex-bourbon\"` cask.\n",
    "    * 3% per 30 days for `\"ex-amarone\"` cask.\n",
    "* The value of the whisky remains constant between 30 day increments, i.e., you need to round down to the closest multiple of 30 days.\n",
    "* The overall value of the whisky should be multiplied by the quality, which is greater than 0 and at most 1.\n",
    "\n",
    "For example, a whiskey of age 1000 days aged on an ex-sherry cask should have value `300*pow(1.01, int(1000/30-720/30))`, where `pow(a, b)` is a raised to the power of b.\n",
    "\n",
    "As with milk and cheese you should impement this as a separate function `get_value_whisky(age, cask_type, quality)` that is called from the `get_value` function.\n",
    "\n",
    "#### Hey, listen!\n",
    "You can split a string that is delimited by a comma into separate variables:\n",
    "```python\n",
    "s = \"foo,bar\"\n",
    "# Split string s. Assigns the part before the comma to variable a and the part after to b.\n",
    "a, b = s.split(\",\") \n",
    "print(a) # prints \"foo\"\n",
    "print(b) # prints \"bar\"\n",
    "```\n",
    "\n",
    "#### Types\n",
    "Remember that values have different types. For example, when you split the `str`ing `\"ex-sherry,0.2\"`, you get two strings (try it below, and use the `type()` function on the two variables to see that they are strings). Python won't let you treat strings like numbers, even if the text within them happen to look like numbers. Instead, you need to convert the `str` to a `float` – fortunately, there's a built-in function that does that, and its name is easy to remember: `float()`. For example:\n",
    "\n",
    "```python\n",
    "print(\"The string '2.0' is be different from the number 2.0:\", '2.0' != 2.0)\n",
    "print(\"The string '2.0' converted to a float is 2.0:\", float('2.0') == 2.0)\n",
    "```\n"
   ]
  },
  {
   "cell_type": "code",
   "execution_count": 11,
   "metadata": {},
   "outputs": [
    {
     "name": "stdout",
     "output_type": "stream",
     "text": [
      "0.2\n"
     ]
    }
   ],
   "source": [
    "cask_type, quality = \"ex-sherry,0.2\".split(\",\")\n",
    "print(quality)"
   ]
  },
  {
   "cell_type": "code",
   "execution_count": 12,
   "metadata": {
    "deletable": false,
    "editable": false,
    "nbgrader": {
     "checksum": "ec03c92ea0cd8285e91afc2704a10931",
     "grade": true,
     "grade_id": "cell-39bcf2706e6ab203",
     "locked": true,
     "points": 3,
     "schema_version": 1,
     "solution": false
    }
   },
   "outputs": [
    {
     "name": "stdout",
     "output_type": "stream",
     "text": [
      "Problem 7:1.0\n",
      "1.0\n",
      "1.0\n",
      "0.5\n",
      "0.2\n",
      "0.9\n",
      "1.0\n",
      "1.0\n",
      "1.0\n",
      "0.5\n",
      "0.2\n",
      "0.9\n",
      "    tests pass\n",
      "Problem 6:    tests pass\n",
      "Problem 5:    tests pass\n",
      "Problem 4:    tests pass\n",
      "Problem 3:    tests pass\n",
      "Problem 2:    tests pass\n",
      "Problem 1:    tests pass\n"
     ]
    }
   ],
   "source": [
    "def testProblem7():\n",
    "    print(\"Problem 7:\", end='')\n",
    "    e = 1e-6 # tolerance for float comparisons, in case of rounding errors\n",
    "    assertEquals(get_value(\"whisky\", 0, \"ex-sherry,1\"), 0, e)\n",
    "    assertEquals(get_value(\"whisky\", 0, \"ex-bourbon,1\"), 0, e)\n",
    "    assertEquals(get_value(\"Whisky\", 0, \"ex-amarone, 1\"), 0, e)\n",
    "    assertEquals(get_value(\" whisky\", -1, \"ex-sherry,1\"), 0, e)\n",
    "    assertEquals(get_value(\" WHISKY\", -1, \"EX-bourbon,1\"), 0, e)\n",
    "    assertEquals(get_value(\"whisky\", -1, \" ex-amarone, 1\"), 0, e)\n",
    "    assertEquals(get_value(\"whisky\", 359, \"ex-sherry,0.3\"), 0, e)\n",
    "    assertEquals(get_value(\"whisky\", 359, \"ex-bourbon, 0.4\"), 0, e)\n",
    "    assertEquals(get_value(\"whisky\", 359, \"ex-amarone,0.22\"), 0, e)\n",
    "    assertEquals(get_value(\"whisky\", 360, \"ex-sherry,1\"), 300, e)\n",
    "    assertEquals(get_value(\"whisky\", 360, \"ex-bourbon,1\"), 300, e)\n",
    "    assertEquals(get_value(\"whisky\", 360, \"ex-amarone,1\"), 300, e)\n",
    "    assertEquals(get_value(\"whisky\", 360, \"ex-sherry,0.5\"), 150, e)\n",
    "    assertEquals(get_value(\"whisky\", 360, \"ex-bourbon,0.2\"), 60, e)\n",
    "    assertEquals(get_value(\"whisky\", 360, \"ex-amarone,0.9\"), 270, e)\n",
    "    assertEquals(get_value(\"whisky\", 390, \"ex-sherry,1\"), 300, e)\n",
    "    assertEquals(get_value(\"whisky\", 390, \"ex-bourbon,1\"), 300, e)\n",
    "    assertEquals(get_value(\"whisky\", 390, \"ex-amarone,1\"), 300, e)\n",
    "    assertEquals(get_value(\"whisky\", 390, \"ex-sherry,0.5\"), 150, e)\n",
    "    assertEquals(get_value(\"whisky\", 390, \"ex-bourbon,0.2\"), 60, e)\n",
    "    assertEquals(get_value(\"whisky\", 390, \"ex-amarone,0.9\"), 270, e)\n",
    "    assertEquals(get_value(\"whisky\", 720, \"ex-sherry,1\"), 300, e)\n",
    "    assertEquals(get_value(\"whisky\", 720, \"ex-bourbon,1\"), 300, e)\n",
    "    assertEquals(get_value(\"whisky\", 720, \"ex-amarone,1\"), 300, e)\n",
    "    assertEquals(get_value(\"whisky\", 720, \"ex-sherry,0.1\"), 30, e)\n",
    "    assertEquals(get_value(\"whisky\", 720, \"ex-bourbon,0.99\"), 297, e)\n",
    "    assertEquals(get_value(\"whisky\", 720, \"ex-amarone,0.3\"), 90, e)\n",
    "    assertEquals(get_value(\"whisky\", 1000, \"ex-sherry,1\"), 328.10558180530825)\n",
    "    assertEquals(get_value(\"whisky\", 1000, \"ex-bourbon,1\"), 358.5277705866933)\n",
    "    assertEquals(get_value(\"whisky\", 1000, \"ex-amarone,1\"), 391.43195514877345)\n",
    "    assertEquals(get_value(\"whisky\", 1000, \"ex-sherry,0.1\"), 32.810558180530826)\n",
    "    assertEquals(get_value(\"whisky\", 1000, \"ex-bourbon,0.99\"), 354.94249288082636)\n",
    "    assertEquals(get_value(\"whisky\", 1000, \"ex-amarone,0.3\"), 117.42958654463203)\n",
    "    print(\"    tests pass\")\n",
    "\n",
    "\n",
    "testProblem7()\n",
    "testProblem6()\n",
    "testProblem5()\n",
    "testProblem4()\n",
    "testProblem3()\n",
    "testProblem2()\n",
    "testProblem1()\n"
   ]
  },
  {
   "cell_type": "markdown",
   "metadata": {
    "deletable": false,
    "editable": false,
    "nbgrader": {
     "checksum": "31b31dd32f67366e766972f6fe9357fc",
     "grade": false,
     "grade_id": "cell-3aa69e390e07b32c",
     "locked": true,
     "schema_version": 1,
     "solution": false
    }
   },
   "source": [
    "## Getting Ahead\n",
    "This week we've focused on separating functionality and debugging. I'm sure you've experienced that it's not always easy to figure out what's wrong when you're dealing with lots of different cases like we've done here. Congratulations on completing it!\n",
    "\n",
    "There's a very natural extension we can make to the code you've written. The function we've written takes arguments for a single item at a time. However, the ranch frequently processes long lists of items at a time. Write a new function `get_values(item_list)` that takes as its single argument [a list](https://docs.python.org/3/tutorial/introduction.html#lists) of lists. Each of the lists in the list contains the three fields `\"item_name\"`, `\"item_age\"` and `item_description\"` at indices 0, 1 and 2, respectively. You should call the `get_value` function you've written for each element of `item_list`. To do this you need to learn about lists. I recommend looking at [this video](https://www.youtube.com/watch?v=ohCDWZgNIU0). The style is a bit cheesy but the content is good. If you're using list comprehensions you can do this in a single line of code. Using `append()` is also fine and only requires a little bit more code.\n",
    "\n",
    "This part is meant as preparation for the coming course material and includes materiel not yet covered in the course. Then again, you never have to catch up if you're always getting ahead. This part requires doing more learning on your own. You're in very good shape if you can complete it :)"
   ]
  },
  {
   "cell_type": "code",
   "execution_count": 15,
   "metadata": {
    "deletable": false,
    "nbgrader": {
     "checksum": "69b7856de4d98d8dc52ddd7bd962e473",
     "grade": false,
     "grade_id": "cell-1b7041bc1bc8e232",
     "locked": false,
     "schema_version": 1,
     "solution": true
    }
   },
   "outputs": [],
   "source": [
    "def get_values(item_list):\n",
    "    '''\n",
    "    returns a list of values for each item in item_list. item_list is a list of \n",
    "    lists with fields \"item_name\", \"item_age\", \"item_details at index 0, 1, 2, \n",
    "    respectively.\"\n",
    "    '''\n",
    "    values = list()\n",
    "    for item in item_list:\n",
    "        item_name = item[0]\n",
    "        item_age = item[1]\n",
    "        item_details = item[2]\n",
    "        value = get_value(item_name, item_age, item_details)\n",
    "        values.append(value)\n",
    "    return values"
   ]
  },
  {
   "cell_type": "code",
   "execution_count": 16,
   "metadata": {
    "deletable": false,
    "editable": false,
    "nbgrader": {
     "checksum": "227277dbe3bdadd6e7fcc723346abc57",
     "grade": true,
     "grade_id": "cell-e0f4372b3388371b",
     "locked": true,
     "points": 0,
     "schema_version": 1,
     "solution": false
    }
   },
   "outputs": [
    {
     "name": "stdout",
     "output_type": "stream",
     "text": [
      "0.9\n",
      "tests pass\n"
     ]
    }
   ],
   "source": [
    "def check(a, b, tol=1e-6):\n",
    "    return abs(a-b) <= tol\n",
    "\n",
    "# define a list of items with each item represented by a dict\n",
    "item_list = [\n",
    "    [\"empty bottle\", 360, \"\"],\n",
    "    [\"milk\", 7, \"premium\"],\n",
    "    [\"milk\", 8, \"premium\"],\n",
    "    [\"Aged Cheese\", 360, \"\"],\n",
    "    [\"aged  cheese\", 719, \"\"],\n",
    "    [\"Whisky\", 360, \"ex-amarone,0.9\"],\n",
    "    [\"whisky\", 720, \"ex-bourbon,0.99\"],\n",
    "    [\"whisky\", 1000, \"ex-bourbon,0.99\"],\n",
    "]\n",
    "\n",
    "# correct values for comparison\n",
    "correct_values = [\n",
    "    1000,\n",
    "    200,\n",
    "    150,\n",
    "    1090,\n",
    "    2526,\n",
    "    270,\n",
    "    297,\n",
    "    354.94249288082636,\n",
    "]\n",
    "\n",
    "# call the get_values function to get the values\n",
    "computed_values = get_values(item_list)\n",
    "\n",
    "assert len(computed_values) == len(item_list), f\"incorrect number of computed values: expected {len(item_list)}, got {len(computed_values)}\"\n",
    "\n",
    "# compare each computed value against the correct value\n",
    "for correct_value, computed_value, item in zip(correct_values, computed_values, item_list):\n",
    "    assert check(correct_value, computed_value), f\"incorrect value for {item}: expected {correct_value}, got {computed_value}\"\n",
    "    \n",
    "print(\"tests pass\")"
   ]
  }
 ],
 "metadata": {
  "kernelspec": {
   "display_name": "Python 3",
   "language": "python",
   "name": "python3"
  },
  "language_info": {
   "codemirror_mode": {
    "name": "ipython",
    "version": 3
   },
   "file_extension": ".py",
   "mimetype": "text/x-python",
   "name": "python",
   "nbconvert_exporter": "python",
   "pygments_lexer": "ipython3",
   "version": "3.6.5"
  }
 },
 "nbformat": 4,
 "nbformat_minor": 2
}
