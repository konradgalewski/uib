{
 "cells": [
  {
   "cell_type": "markdown",
   "metadata": {},
   "source": [
    "Before you turn this problem in, make sure everything runs as expected. First, **restart the kernel** (in the menubar, select Kernel$\\rightarrow$Restart) and then **run all cells** (in the menubar, select Cell$\\rightarrow$Run All).\n",
    "\n",
    "Make sure you fill in any place that says `YOUR CODE HERE` or `YOUR ANSWER HERE`, as well as your name and collaborators below:"
   ]
  },
  {
   "cell_type": "code",
   "execution_count": null,
   "metadata": {},
   "outputs": [],
   "source": [
    "NAME = \"\"\n",
    "COLLABORATORS = \"\""
   ]
  },
  {
   "cell_type": "markdown",
   "metadata": {},
   "source": [
    "---"
   ]
  },
  {
   "cell_type": "markdown",
   "metadata": {
    "deletable": false,
    "editable": false,
    "nbgrader": {
     "checksum": "1f735ab0015023f8eadd84d3d820f9f6",
     "grade": false,
     "grade_id": "cell-1565a6216afdc1e4",
     "locked": true,
     "schema_version": 1,
     "solution": false
    }
   },
   "source": [
    "# Assignment Week 4\n",
    "\n",
    "Welcome to the fourth weekly assignment! Every week we'll give you an assignment that covers the materiel from the previous week. Again, these assignment are not obligatory but are highly recommended.\n",
    "\n",
    "I hear the l33t sp34k is all the rage with the kids (kidz?) nowadays. As with all marketing it's best to start when they're young. Hence, the UiB administration would like to improve their communication with said kids in order to in the future attract them to UiB. However, the administration is far from fluent in l33t sp34k! As a result they've hired you to write software that translates between normal speak and l33t sp34k. \n",
    "\n",
    "Specifically, we're going to write a pair of functions `l33tify(normal_string)` and `del33tify(l33t_string)` that converts a string to and from l33t sp34k, respectively. The idea is that the administration can use the `l33tify()` function to on-the-fly convert their communication to a language the kids can understand. We then pass the kids' response back through `del33tify()` so that the administrators can understand.\n",
    "\n",
    "For example, the text from the [frontpage of the informatics department](https://www.uib.no/en/ii) looks as follows:\n",
    "\n",
    "> With a wide range of study programs, competitive PhD positions and six recognized research groups, you have many opportunities at the Department of Informatics at UiB. Graduates from us are highly sought after in the labor market, and we prepare our graduates for highly diverse careers in ICT, finance, media and academia. Did you start your computer science studies outside of Norway? We have several options for you to be a student of our department or to start a research career with us.\n",
    "\n",
    "Converted to l33t sp34k it looks as follows:\n",
    "> With a widzor rangzor of study programs, competitivzor PhD positions and six recogniz'd research groups, joo havzor many opportunities at teh Department of Informatics at UiB. Graduates from us arzor highly sought aftxor in teh labor market, and wzor preparzor our graduates for highly diverszor careers in ICT, finance, media and academia. Did joo start joor computxor scienczor studies outsidzor of Norway? Wzor havzor several options for joo to bzor a student of our department or to start a research carexor with us.\n",
    "\n",
    "In the regular problems we'll develop the code needed to convert short strings. In getting ahead you'll have the chance to write a program that uses this code to convert a string containing many words like the one above.\n",
    "\n",
    "Google translate is essentially a more sophistcated version of what we're going to build in this assignment. Furthermore, computer languages, e.g., Python, do something similar internally as well. When you run your code the computer first passes through the text representation of the code (which is made for humans) and converts it to another representation that the computer can understand and execute.\n",
    "\n",
    "As with the previous assignment you're going to work on the same code throughout the assignment. Initially the code will be short. However, as we include support for a wider range of language you'll need to add more things. Keep in mind that adding additional functions that are called from the main function is a good strategy to keep each function simple and easy to reason about. Furthermore, you'll need to take some care to figure out what's wrong when the tests don't work.\n",
    "\n",
    "## General Guidelines\n",
    "These are general guidelines that will (hopefully) help you preserve your sanity through your programming endeavours.\n",
    "* Set aside time to clean up your code. The number that gets bandied around on the internet is that the best programmers spend roughly half their time cleaning up and rewriting their code, i.e., you are halfway done when you get it working.\n",
    "* The sooner you start programming the longer it takes, i.e., make sure you understand the problem and have an idea for how to solve it before you get started.\n",
    "* Make sure you understand the current assignment before moving on. Building on bedrock is better than building on sand.\n",
    "* You should be spending a significant amount of time on [Stack Overflow](https://stackoverflow.com/) and [Google](https://duckduckgo.com/?q=how+to+python). Even experienced programmers do this.\n",
    "* [PEP8](https://www.python.org/dev/peps/pep-0008/) is the official Python style guilde. Following these guidelines makes sure your code is neat and easy to read by you and others.\n",
    "\n",
    "## Function\n",
    "You'll be working in the code cell below throughout the whole assignment. As we're adding more rules you should make modifications as needed to this function. **Make sure to re-run the whole notebook by pressing the double play button at the top (restart the kernel, then re-run the whole notebook) whenever you make any changes.** This is due to two reasons:\n",
    "* You need to rerun a cell with code in it whenever you make changes for the changes to take effect.\n",
    "* You should re-run all tests whenever you change something to make sure your change didn't break an earlier test.\n",
    "Re-running the whole notebook takes care of this automatically.\n",
    "\n",
    "The [signature](https://en.wikipedia.org/wiki/Type_signature) of the functions you'll be working on are `l33tify(norm_speak)` and `del33tify(leet_speak)`. In both cases the parameter is a string.\n",
    "\n",
    "When learning programming as you do now it's common to look back on the code written by past you and wonder what in the world he/she was thinking. This is good because it means present you is a stronger programmer than past you. However, it also means present you has to keep correcting the things past you wrote. Therefore, it's important that you go back and clean up your code after completing each problem.\n",
    "\n",
    "#### Python Tip: Functions, Parameters, Arguments and Return Values\n",
    "```Python\n",
    "def f(a, b):\n",
    "    return a + b\n",
    "```\n",
    "Remember that when a function is called (e.g., `f(1+2, 2*7)`) the *actual argument* values are computed and placed in the *formal parameter* variables (e.g., `a = 3`, `b = 14`). When the function reaches the `return` statement, the *return value* is computed and becomes the value of the function call."
   ]
  },
  {
   "cell_type": "code",
   "execution_count": 225,
   "metadata": {
    "deletable": false,
    "nbgrader": {
     "checksum": "133251f324f9480ec0f29a230845d8a2",
     "grade": false,
     "grade_id": "cell-dd49ba701655981b",
     "locked": false,
     "schema_version": 1,
     "solution": true
    }
   },
   "outputs": [],
   "source": [
    "dic={\"elite\" : \"leet\", \"for the win\" : \"ftw\" , \"hacker\" : \"haxzor\", \"you\" : \"joo\",\n",
    "        \"oh well\" : \"meh\" , \"newcomer\" : \"noob\", \"the\" : \"teh\", \"oh my god\" : \"zoMG!!!11!\", \"no way\" : \"nowai\",\n",
    "        \"strong\" : \"stronk\", \"good luck\" : \"gl\", \"have fun\" : \"hf\", \"for the win\": \"ftw\" }\n",
    "\n",
    "\n",
    "\n",
    "\n",
    "\n",
    "def modyf(string):\n",
    "    if string[-2:]=='er':\n",
    "        #print(s[0:-2]+string[-2:0].replace('er','xor'))\n",
    "        return string[:-2]+'xor'\n",
    "    if string[-2:]=='ed':\n",
    "        return string[0:-2]+'\\'d'\n",
    "    if string[-1:]=='e':\n",
    "        return string[0:-1]+'zor'\n",
    "    return string \n",
    "    \n",
    "\n",
    "def un_modyf(string):\n",
    "    if string[-3:]=='xor':\n",
    "        #print(s[0:-2]+string[-2:0].replace('er','xor'))\n",
    "        return string[:-3]+'er'\n",
    "    if string[-2:]=='\\'d':\n",
    "        return string[0:-2]+'ed'\n",
    "    if string[-3:]=='zor':\n",
    "        return string[0:-3]+'e'\n",
    "    return string \n",
    "    \n",
    "def l33tify(norm_speak):\n",
    "    '''convert the string norm_speak from normal speak into \n",
    "    l33t sp34k.\n",
    "    \n",
    "    '''\n",
    "    # problem 1,1a\n",
    "    leet = norm_speak.lower()\n",
    "    \n",
    "    \n",
    "    #leet = dic[norm]\n",
    "    \n",
    "    for key , value in dic.items():\n",
    "        leet = leet.replace(key, value)\n",
    "       \n",
    "    # handle capit.\n",
    "    if iscapitalized(norm_speak):\n",
    "        if leet==\"good luck\" or leet==\"have fun\" or leet==\"for the win\":\n",
    "              leet = leet.upper()\n",
    "        else:\n",
    "            leet = capitalize(leet)\n",
    "    leet = modyf(leet)\n",
    "    return leet\n",
    "\n",
    "#problem 3b\n",
    "    #print(norm_speak)\n",
    "    #return modyf(norm_speak)\n",
    "  \n",
    "    \n",
    "def del33tify(leet_speak):\n",
    "    '''convert the string l33t_speak from l33t sp34k into \n",
    "    normal speak.\n",
    "    \n",
    "    '''\n",
    "    norm = leet_speak.lower() # take leet_s. na normalizate of it to lower let.\n",
    "    # cre. tabele\n",
    "    norm_from_leet = dict()\n",
    "    for key, value in dic.items():\n",
    "        norm_from_leet[value.lower()] = key  # for every key and values \n",
    "        \n",
    "    for key , value in norm_from_leet.items():\n",
    "        norm = norm.replace(key, value)\n",
    "        \n",
    "    if iscapitalized(leet_speak):\n",
    "        norm = capitalize(norm)\n",
    "    \n",
    "    norm = un_modyf(norm)\n",
    "    \n",
    "    return norm\n",
    "        \n",
    "    \n",
    "    '''  \n",
    "  if iscapitalized(leet_speak):\n",
    "        #if leet_speak.lower()==\"gl\" or leet_speak.lower()==\"hf\" or leet_speak.lower()==\"ftw\":\n",
    "            #print(leet_speak)\n",
    "            #return dic_o[leet_speak.lower()].upper()\n",
    "        return capitalize(dic_o[leet_speak.lower()])\n",
    "    return dic_o[leet_speak]\n",
    "    '''\n",
    "\n",
    "\n",
    "def iscapitalized(s):\n",
    "    if not s:\n",
    "        return False\n",
    "    return s[0].isupper()\n",
    "    \n",
    "\n",
    "def capitalize(s):\n",
    "    if not s:\n",
    "        return ''\n",
    "    \n",
    "    s0=s[0].upper()\n",
    "    s1=s[1:]\n",
    "    return s0+s1\n",
    "\n",
    "def endswidth(s, ending):\n",
    "    '''\n",
    "    Problem 3a\n",
    "Implement a new function endswith(s, ending) that takes two strings as arguments and returns True if \"s\" ends with \"ending\". For example,\n",
    "endswidth(\"hacker\", \"er\") returns True.\n",
    "endswidth(\"haxxor\", \"er\") returns False.\n",
    "endswidth(\"age\", \"e\") returns True.\n",
    "endswidth(\"aged\", \"e\") returns False.\n",
    "endswidth(\"accepted\", \"ed\") returns True.\n",
    "endswidth(\"accept\", \"ed\") returns False.\n",
    "    '''\n",
    "    if s[-2:0]=='er':\n",
    "        return s[0:-2]+s[-2:0].replace('er','xor')\n",
    "    if s[-2:0]=='ed':\n",
    "        return s[0:-2]+s[-2:0].replace('ed', \"'d\")\n",
    "    if s[-1:0]=='e':\n",
    "        return s[0:-1]+s[-1:0].repalce('e','zor')\n",
    "    \n",
    "    return s[-len(ending):]==ending\n",
    "    "
   ]
  },
  {
   "cell_type": "markdown",
   "metadata": {
    "deletable": false,
    "editable": false,
    "nbgrader": {
     "checksum": "7f5633d23cf73ec7efdd68e97f8b2256",
     "grade": false,
     "grade_id": "cell-c781279ef0cef783",
     "locked": true,
     "schema_version": 1,
     "solution": false
    }
   },
   "source": [
    "## Problem 1\n",
    "The first barrier to communicating with the kids is the vocabulary. We'll need to replace some English words with the corresponding words in l33t sp34k.\n",
    "\n",
    "### Problem 1.A\n",
    "Update the `l33tify()` function such that when given the string on the left in this list it returns the one on the right (after the -> arrow). The list consists of a selection of words from the [l33t Wikipedia page](https://simple.wikipedia.org/wiki/Leet).\n",
    "* `\"elite\"` -> `\"leet\"`\n",
    "* `\"for the win\"` -> `\"ftw\"`\n",
    "* `\"hacker\"` -> `\"haxzor\"`\n",
    "* `\"you\"` -> `\"joo\"`\n",
    "* `\"oh well\"` -> `\"meh\"`\n",
    "* `\"newcomer\"` -> `\"noob\"`\n",
    "* `\"the\"` -> `\"teh\"`\n",
    "* `\"oh my god\"` -> `\"zoMG!!!11!\"`\n",
    "* `\"no way\"` -> `\"nowai\"`\n",
    "* `\"strong\"` -> `\"stronk\"`\n",
    "* `\"good luck\"` -> `\"gl\"`\n",
    "* `\"have fun\"` -> `\"hf\"`"
   ]
  },
  {
   "cell_type": "code",
   "execution_count": 208,
   "metadata": {},
   "outputs": [
    {
     "name": "stdout",
     "output_type": "stream",
     "text": [
      "s1 foobar\n",
      "s2 123bar\n",
      "s 123456\n"
     ]
    }
   ],
   "source": [
    "# Python hint: Replacing words\n",
    "s1 = 'foobar'\n",
    "s2 = s1.replace('foo', '123') # note the variable assignment\n",
    "print('s1', s1) # prints 'foobar'. s1 remains unchanged.\n",
    "print('s2', s2) # prints '123bar'. s2 contains the replacement.\n",
    "\n",
    "# you can chain multiple replacements\n",
    "s = 'foobar'\n",
    "s = s.replace('foo', '123') # assignment back to the same variable\n",
    "s = s.replace('bar', '456')\n",
    "print('s', s)"
   ]
  },
  {
   "cell_type": "code",
   "execution_count": 209,
   "metadata": {
    "deletable": false,
    "editable": false,
    "nbgrader": {
     "checksum": "7ea1b3bf028c76b4cc3a4f36488c03d8",
     "grade": true,
     "grade_id": "cell-e1f7c8f2bae79f2e",
     "locked": true,
     "points": 2,
     "schema_version": 1,
     "solution": false
    }
   },
   "outputs": [
    {
     "name": "stdout",
     "output_type": "stream",
     "text": [
      "Problem 1a:    tests pass\n"
     ]
    }
   ],
   "source": [
    "def check(norm_speak, leet_speak, lfn=True, nfl=True):\n",
    "    if lfn:\n",
    "        leet_from_norm = l33tify(norm_speak)\n",
    "        assert leet_from_norm == leet_speak, f'error when converting norm-speak to l33t-sp34k: expected {leet_speak}, got {leet_from_norm}'\n",
    "    \n",
    "    if nfl:\n",
    "        norm_from_leet = del33tify(leet_speak)\n",
    "        assert norm_from_leet == norm_speak, f'error when converting l33t-sp34k to norm-speak: expected {norm_speak}, got {norm_from_leet}'\n",
    "    \n",
    "def testProblem1a():\n",
    "    print(\"Problem 1a:\", end='')\n",
    "    check(\"elite\", \"leet\", nfl=False)\n",
    "    check(\"for the win\", \"ftw\", nfl=False)\n",
    "    check(\"hacker\", \"haxzor\", nfl=False)\n",
    "    check(\"you\", \"joo\", nfl=False)\n",
    "    check(\"oh well\", \"meh\", nfl=False)\n",
    "    check(\"newcomer\", \"noob\", nfl=False)\n",
    "    check(\"the\", \"teh\", nfl=False)\n",
    "    check(\"oh my god\", \"zoMG!!!11!\", nfl=False)\n",
    "    check(\"no way\", \"nowai\", nfl=False)\n",
    "    check(\"strong\", \"stronk\", nfl=False)\n",
    "    check(\"good luck\", \"gl\", nfl=False)\n",
    "    check(\"have fun\", \"hf\", nfl=False)\n",
    "    print(\"    tests pass\")\n",
    "\n",
    "testProblem1a()"
   ]
  },
  {
   "cell_type": "markdown",
   "metadata": {
    "deletable": false,
    "editable": false,
    "nbgrader": {
     "checksum": "e1d97e6cf4c38f2366f28314b00c0c5a",
     "grade": false,
     "grade_id": "cell-0d5665cbdc92728a",
     "locked": true,
     "schema_version": 1,
     "solution": false
    }
   },
   "source": [
    "### Problem 1.B\n",
    "\n",
    "Now update the `del33tify()` function accordingly, i.e., it should make the opposite conversion from `l33tify()` such that `del33tify(l33tify(s)) == s` is `True`."
   ]
  },
  {
   "cell_type": "code",
   "execution_count": 210,
   "metadata": {
    "deletable": false,
    "editable": false,
    "nbgrader": {
     "checksum": "029618e55d09f931172380eea391cf4b",
     "grade": true,
     "grade_id": "cell-45eb2240cd28593e",
     "locked": true,
     "points": 2,
     "schema_version": 1,
     "solution": false
    }
   },
   "outputs": [
    {
     "name": "stdout",
     "output_type": "stream",
     "text": [
      "Problem 1b:    tests pass\n",
      "Problem 1a:    tests pass\n"
     ]
    }
   ],
   "source": [
    "def testProblem1b():\n",
    "    print(\"Problem 1b:\", end='')\n",
    "    check(\"elite\", \"leet\")\n",
    "    check(\"for the win\", \"ftw\")\n",
    "    check(\"hacker\", \"haxzor\")\n",
    "    check(\"you\", \"joo\")\n",
    "    check(\"oh well\", \"meh\")\n",
    "    check(\"newcomer\", \"noob\")\n",
    "    check(\"the\", \"teh\")\n",
    "    check(\"oh my god\", \"zoMG!!!11!\")\n",
    "    check(\"no way\", \"nowai\")\n",
    "    check(\"strong\", \"stronk\")\n",
    "    check(\"good luck\", \"gl\")\n",
    "    check(\"have fun\", \"hf\")\n",
    "    print(\"    tests pass\")\n",
    "\n",
    "testProblem1b()\n",
    "testProblem1a()"
   ]
  },
  {
   "cell_type": "markdown",
   "metadata": {
    "deletable": false,
    "editable": false,
    "nbgrader": {
     "checksum": "d9f34c74c4d382ea886e551c211374cd",
     "grade": false,
     "grade_id": "cell-5501deb2af98d356",
     "locked": true,
     "schema_version": 1,
     "solution": false
    }
   },
   "source": [
    "## Problem 2\n",
    "\n",
    "We were playing fast and loose with the capitalization in the previous problem and the administrators are not happy. They insist on consistent rules for how words should be capitalized when converting to and from l33t sp34k.\n",
    "\n",
    "### Problem 2a\n",
    "\n",
    "Write a function `iscapitalized(s)` that takes a string as its single argument and returns `True` if the first letter of `\"s\"` is capitalized, e.g., `\"l33t\"` -> `False` and `\"L33t\"` -> `True`.\n",
    "\n",
    "#### Python hint: Defining new functions\n",
    "You define new functions next to each other like this:\n",
    "```Python\n",
    "def f():\n",
    "    print('running function f')\n",
    "    \n",
    "def g():\n",
    "    print('running function g')\n",
    "\n",
    "f() # running function f\n",
    "g() # running function g\n",
    "```\n",
    "\n",
    "If you define `g()` inside of `f()`, `g()` is not visible outside `f()`, i.e., the below won't work. Note the indentation.\n",
    "```Python\n",
    "def f():\n",
    "    print('running function f')\n",
    "    \n",
    "    def g():\n",
    "        print('running function g')\n",
    "\n",
    "f() # running function f\n",
    "g() # causes an error since g() is only visible inside f()\n",
    "```"
   ]
  },
  {
   "cell_type": "code",
   "execution_count": 211,
   "metadata": {},
   "outputs": [
    {
     "name": "stdout",
     "output_type": "stream",
     "text": [
      "F\n",
      "o\n",
      "Fo\n",
      "ba\n"
     ]
    }
   ],
   "source": [
    "# Python hint: Substrings\n",
    "s = 'Foobar'\n",
    "s0 = s[0] # the [i] syntax allows you to extract the i-th character\n",
    "print(s0) \n",
    "\n",
    "s1 = s[1] # it works for any value of 0 <= i < len(s)\n",
    "print(s1)\n",
    "\n",
    "s0_2 = s[0:2] # the [i1:i2] syntax allows you to extract a substring\n",
    "print(s0_2)\n",
    "\n",
    "s3_5 = s[3:5] # works for any values 0 <= i1 <= i2 < len(s)\n",
    "print(s3_5)"
   ]
  },
  {
   "cell_type": "code",
   "execution_count": 145,
   "metadata": {},
   "outputs": [
    {
     "name": "stdout",
     "output_type": "stream",
     "text": [
      "True\n",
      "False\n"
     ]
    }
   ],
   "source": [
    "# Python hint: isupper\n",
    "s1 = 'F'\n",
    "s2 = 'f'\n",
    "print(s1.isupper()) # True\n",
    "print(s2.isupper()) # False"
   ]
  },
  {
   "cell_type": "code",
   "execution_count": 212,
   "metadata": {
    "deletable": false,
    "editable": false,
    "nbgrader": {
     "checksum": "a6afe038e7b932e42fab05d25b5979de",
     "grade": true,
     "grade_id": "cell-adf572ed466ef5d7",
     "locked": true,
     "points": 0,
     "schema_version": 1,
     "solution": false
    }
   },
   "outputs": [
    {
     "name": "stdout",
     "output_type": "stream",
     "text": [
      "Problem 2a:    tests pass\n"
     ]
    }
   ],
   "source": [
    "def assertEqual(a, b, tol=0):\n",
    "    assert a == b, f'expected {b}, got {a}'\n",
    "    \n",
    "def testProblem2a():\n",
    "    print(\"Problem 2a:\", end='')\n",
    "    assertEqual(iscapitalized(\"l33t\"), False)\n",
    "    assertEqual(iscapitalized(\"L33t\"), True)\n",
    "    assertEqual(iscapitalized(\"l33T\"), False)\n",
    "    assertEqual(iscapitalized(\"L33T\"), True)\n",
    "    assertEqual(iscapitalized(\"l33t Haxzors\"), False)\n",
    "    assertEqual(iscapitalized(\"L33t Haxzors\"), True)\n",
    "    assertEqual(iscapitalized(\"1F33t\"), False)\n",
    "    assertEqual(iscapitalized(\"\"), False)\n",
    "    print(\"    tests pass\")\n",
    "\n",
    "testProblem2a()"
   ]
  },
  {
   "cell_type": "markdown",
   "metadata": {
    "deletable": false,
    "editable": false,
    "nbgrader": {
     "checksum": "4e4bc018de807fac95ed94af4eafa8f5",
     "grade": false,
     "grade_id": "cell-95ae11cefc766461",
     "locked": true,
     "schema_version": 1,
     "solution": false
    }
   },
   "source": [
    "### Problem 2b\n",
    "Write a function `capitalize(s)` that takes a string as its single argument and returns a new string that is exctly the same except that the first character is capitalized, e.g., `\"l33t\"` -> `\"L33t\"`."
   ]
  },
  {
   "cell_type": "code",
   "execution_count": 213,
   "metadata": {
    "deletable": false,
    "editable": false,
    "nbgrader": {
     "checksum": "b9824aaaf93497b2bb48492ee51b97d7",
     "grade": true,
     "grade_id": "cell-d2e50a737f9615d8",
     "locked": true,
     "points": 0,
     "schema_version": 1,
     "solution": false
    }
   },
   "outputs": [
    {
     "name": "stdout",
     "output_type": "stream",
     "text": [
      "Problem 2b:    tests pass\n",
      "Problem 2a:    tests pass\n"
     ]
    }
   ],
   "source": [
    "def testProblem2b():\n",
    "    print(\"Problem 2b:\", end='')\n",
    "    assertEqual(capitalize(\"l33t\"), \"L33t\")\n",
    "    assertEqual(capitalize(\"L33t\"), \"L33t\")\n",
    "    assertEqual(capitalize(\"l33t Haxzors\"), \"L33t Haxzors\")\n",
    "    assertEqual(capitalize(\"L33t Haxzors\"), \"L33t Haxzors\")\n",
    "    assertEqual(capitalize(\"\"), \"\")\n",
    "    print(\"    tests pass\")\n",
    "\n",
    "testProblem2b()\n",
    "testProblem2a()"
   ]
  },
  {
   "cell_type": "code",
   "execution_count": 148,
   "metadata": {},
   "outputs": [
    {
     "name": "stdout",
     "output_type": "stream",
     "text": [
      "s3 Foobar\n",
      "s4 oba\n"
     ]
    }
   ],
   "source": [
    "# Python hint: Concatenating strings\n",
    "s1 = 'foo'\n",
    "s2 = 'bar'\n",
    "\n",
    "s3 = s1 + s2\n",
    "print('s3', s) # foobar\n",
    "\n",
    "s4 = s1[1:2] + s2[0:2] # o + ba\n",
    "print('s4', s4) # oba"
   ]
  },
  {
   "cell_type": "code",
   "execution_count": 149,
   "metadata": {},
   "outputs": [
    {
     "name": "stdout",
     "output_type": "stream",
     "text": [
      "len of s 6\n"
     ]
    }
   ],
   "source": [
    "# Python hint: String length\n",
    "s = 'foobar'\n",
    "print('len of s', len(s)) # s is 6 characters long"
   ]
  },
  {
   "cell_type": "markdown",
   "metadata": {
    "deletable": false,
    "editable": false,
    "nbgrader": {
     "checksum": "bfd72eee95f7ef75034994b96bc892ff",
     "grade": false,
     "grade_id": "cell-202c6e6c7ee8a394",
     "locked": true,
     "schema_version": 1,
     "solution": false
    }
   },
   "source": [
    "### Problam 2c\n",
    "Update the `l33tify()` function with the following rule for capitalization. Use the functions `iscapitalized()` and `capitalize()` that you wrote.\n",
    "* If the first letter in normal speak is capitalized then the first letter in l33t sp34k should also be capitalized. For example, `\"Elite\"` converts to `\"L33t\"` and `\"newcomer\"` converts to `\"noob\"`.\n",
    "* Note that the `\"MG`\" in `\"ZoMG!!!11!\"` should always be capitalized. The `\"Z\"` is capitalized only if the first letter in norm speak is capitalized, e.g., `\"oh my god\"` converts to `\"zoMG!!!11!\"` and `\"Oh my god\"` converts to `\"ZoMG!!!11!\"`."
   ]
  },
  {
   "cell_type": "code",
   "execution_count": 214,
   "metadata": {
    "deletable": false,
    "editable": false,
    "nbgrader": {
     "checksum": "ef3e4d73793a4cc53da2e8f7153c1c1d",
     "grade": true,
     "grade_id": "cell-b72ca823db5436a5",
     "locked": true,
     "points": 2,
     "schema_version": 1,
     "solution": false
    }
   },
   "outputs": [
    {
     "name": "stdout",
     "output_type": "stream",
     "text": [
      "Problem 2c:    tests pass\n",
      "Problem 2b:    tests pass\n",
      "Problem 2a:    tests pass\n"
     ]
    }
   ],
   "source": [
    "def testProblem2c(verbose=True, nfl=False):\n",
    "    if verbose:\n",
    "        print(\"Problem 2c:\", end='')\n",
    "    check(\"elite\", \"leet\", nfl=nfl)\n",
    "    check(\"hacker\", \"haxzor\", nfl=nfl)\n",
    "    check(\"you\", \"joo\", nfl=nfl)\n",
    "    check(\"oh well\", \"meh\", nfl=nfl)\n",
    "    check(\"newcomer\", \"noob\", nfl=nfl)\n",
    "    check(\"the\", \"teh\", nfl=nfl)\n",
    "    check(\"no way\", \"nowai\", nfl=nfl)\n",
    "    check(\"strong\", \"stronk\", nfl=nfl)\n",
    "    check(\"oh my god\", \"zoMG!!!11!\", nfl=nfl)\n",
    "    check(\"Elite\", \"Leet\", nfl=nfl)\n",
    "    check(\"Hacker\", \"Haxzor\", nfl=nfl)\n",
    "    check(\"You\", \"Joo\", nfl=nfl)\n",
    "    check(\"Oh well\", \"Meh\", nfl=nfl)\n",
    "    check(\"Newcomer\", \"Noob\", nfl=nfl)\n",
    "    check(\"The\", \"Teh\", nfl=nfl)\n",
    "    check(\"No way\", \"Nowai\", nfl=nfl)\n",
    "    check(\"Strong\", \"Stronk\", nfl=nfl) \n",
    "    check(\"Oh my god\", \"ZoMG!!!11!\", nfl=nfl)\n",
    "    if verbose:\n",
    "        print(\"    tests pass\")\n",
    "    \n",
    "testProblem2c()\n",
    "testProblem2b()\n",
    "testProblem2a()"
   ]
  },
  {
   "cell_type": "markdown",
   "metadata": {
    "deletable": false,
    "editable": false,
    "nbgrader": {
     "checksum": "ba0f42a5d7a5aaa18d1f757101ed0f46",
     "grade": false,
     "grade_id": "cell-05123c2c16474e18",
     "locked": true,
     "schema_version": 1,
     "solution": false
    }
   },
   "source": [
    "### Problem 2d\n",
    " The capitalization rules are noy yet completely consistent. Add the following two rules to the `l33tify()` function.\n",
    "* For `\"ftw\"`, `\"GL\"` and `\"HF\"` all letters should be capitalized if the first letter of `For the win\"`, `\"Good luck\"` or `\"Have fun\"` is capitalized, e.g.,\n",
    "    * `\"For the win\"` -> `\"FTW\"` and `\"for the win\"` -> `\"ftw\"`\n",
    "    * `\"Good luck\"` -> `\"GL\"` and `\"good luck\"` -> `\"gl\"`\n",
    "    * `\"Have fun\"` -> `\"HF\"` and `\"have fun\"` -> `\"hf\"`\n",
    "\n",
    "#### Hey, listen! if and elif\n",
    "Use `if` with `elif` and/or `else` to select one of several alternatives:\n",
    "```python\n",
    "s = \"foo\"\n",
    "v = 10\n",
    "if s == \"foo\" and v < 8: # run the indented code if v is smaller than 8\n",
    "    print(\"v is less than 8\")\n",
    "     # do more stuff if you want, e.g. 'return' or 'a = b', or something\n",
    "elif s == \"foo\" and v < 12: # run if v is not smaller than 8 but is smaller than 12\n",
    "    print(\"v is less than 12 and not smaller than 8\")\n",
    "    # do more stuff if you want, e.g. 'return' or 'a = b', or something\n",
    "```\n",
    "\n",
    "In general, it is often better to use `elif`/`else` even if all your `if`s end with `return`, since that makes it clearer to the reader that we are selecting one of several alternatives:\n",
    "```python\n",
    "    # ....\n",
    "    if a == b:\n",
    "        return \"equal\"\n",
    "    else:  \n",
    "        return \"different\"\n",
    "```"
   ]
  },
  {
   "cell_type": "code",
   "execution_count": 224,
   "metadata": {
    "deletable": false,
    "editable": false,
    "nbgrader": {
     "checksum": "4cb6598130e3898b8c06b01e96876171",
     "grade": true,
     "grade_id": "cell-2e0d2298149a955a",
     "locked": true,
     "points": 2,
     "schema_version": 1,
     "solution": false
    }
   },
   "outputs": [
    {
     "name": "stdout",
     "output_type": "stream",
     "text": [
      "Problem 2d:"
     ]
    },
    {
     "ename": "AssertionError",
     "evalue": "error when converting norm-speak to l33t-sp34k: expected FTW, got Ftw",
     "output_type": "error",
     "traceback": [
      "\u001b[1;31m---------------------------------------------------------------------------\u001b[0m",
      "\u001b[1;31mAssertionError\u001b[0m                            Traceback (most recent call last)",
      "\u001b[1;32m<ipython-input-224-cdcf68bab0a4>\u001b[0m in \u001b[0;36m<module>\u001b[1;34m()\u001b[0m\n\u001b[0;32m     12\u001b[0m         \u001b[0mprint\u001b[0m\u001b[1;33m(\u001b[0m\u001b[1;34m\"    tests pass\"\u001b[0m\u001b[1;33m)\u001b[0m\u001b[1;33m\u001b[0m\u001b[0m\n\u001b[0;32m     13\u001b[0m \u001b[1;33m\u001b[0m\u001b[0m\n\u001b[1;32m---> 14\u001b[1;33m \u001b[0mtestProblem2d\u001b[0m\u001b[1;33m(\u001b[0m\u001b[1;33m)\u001b[0m\u001b[1;33m\u001b[0m\u001b[0m\n\u001b[0m\u001b[0;32m     15\u001b[0m \u001b[0mtestProblem2c\u001b[0m\u001b[1;33m(\u001b[0m\u001b[1;33m)\u001b[0m\u001b[1;33m\u001b[0m\u001b[0m\n\u001b[0;32m     16\u001b[0m \u001b[0mtestProblem2b\u001b[0m\u001b[1;33m(\u001b[0m\u001b[1;33m)\u001b[0m\u001b[1;33m\u001b[0m\u001b[0m\n",
      "\u001b[1;32m<ipython-input-224-cdcf68bab0a4>\u001b[0m in \u001b[0;36mtestProblem2d\u001b[1;34m(verbose, nfl)\u001b[0m\n\u001b[0;32m      6\u001b[0m     \u001b[0mcheck\u001b[0m\u001b[1;33m(\u001b[0m\u001b[1;34m\"good luck\"\u001b[0m\u001b[1;33m,\u001b[0m \u001b[1;34m\"gl\"\u001b[0m\u001b[1;33m,\u001b[0m \u001b[0mnfl\u001b[0m\u001b[1;33m=\u001b[0m\u001b[0mnfl\u001b[0m\u001b[1;33m)\u001b[0m\u001b[1;33m\u001b[0m\u001b[0m\n\u001b[0;32m      7\u001b[0m     \u001b[0mcheck\u001b[0m\u001b[1;33m(\u001b[0m\u001b[1;34m\"have fun\"\u001b[0m\u001b[1;33m,\u001b[0m \u001b[1;34m\"hf\"\u001b[0m\u001b[1;33m,\u001b[0m \u001b[0mnfl\u001b[0m\u001b[1;33m=\u001b[0m\u001b[0mnfl\u001b[0m\u001b[1;33m)\u001b[0m\u001b[1;33m\u001b[0m\u001b[0m\n\u001b[1;32m----> 8\u001b[1;33m     \u001b[0mcheck\u001b[0m\u001b[1;33m(\u001b[0m\u001b[1;34m\"For the win\"\u001b[0m\u001b[1;33m,\u001b[0m \u001b[1;34m\"FTW\"\u001b[0m\u001b[1;33m,\u001b[0m \u001b[0mnfl\u001b[0m\u001b[1;33m=\u001b[0m\u001b[0mnfl\u001b[0m\u001b[1;33m)\u001b[0m\u001b[1;33m\u001b[0m\u001b[0m\n\u001b[0m\u001b[0;32m      9\u001b[0m     \u001b[0mcheck\u001b[0m\u001b[1;33m(\u001b[0m\u001b[1;34m\"Good luck\"\u001b[0m\u001b[1;33m,\u001b[0m \u001b[1;34m\"GL\"\u001b[0m\u001b[1;33m,\u001b[0m \u001b[0mnfl\u001b[0m\u001b[1;33m=\u001b[0m\u001b[0mnfl\u001b[0m\u001b[1;33m)\u001b[0m\u001b[1;33m\u001b[0m\u001b[0m\n\u001b[0;32m     10\u001b[0m     \u001b[0mcheck\u001b[0m\u001b[1;33m(\u001b[0m\u001b[1;34m\"Have fun\"\u001b[0m\u001b[1;33m,\u001b[0m \u001b[1;34m\"HF\"\u001b[0m\u001b[1;33m,\u001b[0m \u001b[0mnfl\u001b[0m\u001b[1;33m=\u001b[0m\u001b[0mnfl\u001b[0m\u001b[1;33m)\u001b[0m\u001b[1;33m\u001b[0m\u001b[0m\n",
      "\u001b[1;32m<ipython-input-209-4c150ba0a3af>\u001b[0m in \u001b[0;36mcheck\u001b[1;34m(norm_speak, leet_speak, lfn, nfl)\u001b[0m\n\u001b[0;32m      2\u001b[0m     \u001b[1;32mif\u001b[0m \u001b[0mlfn\u001b[0m\u001b[1;33m:\u001b[0m\u001b[1;33m\u001b[0m\u001b[0m\n\u001b[0;32m      3\u001b[0m         \u001b[0mleet_from_norm\u001b[0m \u001b[1;33m=\u001b[0m \u001b[0ml33tify\u001b[0m\u001b[1;33m(\u001b[0m\u001b[0mnorm_speak\u001b[0m\u001b[1;33m)\u001b[0m\u001b[1;33m\u001b[0m\u001b[0m\n\u001b[1;32m----> 4\u001b[1;33m         \u001b[1;32massert\u001b[0m \u001b[0mleet_from_norm\u001b[0m \u001b[1;33m==\u001b[0m \u001b[0mleet_speak\u001b[0m\u001b[1;33m,\u001b[0m \u001b[1;34mf'error when converting norm-speak to l33t-sp34k: expected {leet_speak}, got {leet_from_norm}'\u001b[0m\u001b[1;33m\u001b[0m\u001b[0m\n\u001b[0m\u001b[0;32m      5\u001b[0m \u001b[1;33m\u001b[0m\u001b[0m\n\u001b[0;32m      6\u001b[0m     \u001b[1;32mif\u001b[0m \u001b[0mnfl\u001b[0m\u001b[1;33m:\u001b[0m\u001b[1;33m\u001b[0m\u001b[0m\n",
      "\u001b[1;31mAssertionError\u001b[0m: error when converting norm-speak to l33t-sp34k: expected FTW, got Ftw"
     ]
    }
   ],
   "source": [
    "def testProblem2d(verbose=True, nfl=False):\n",
    "    if verbose:\n",
    "        print(\"Problem 2d:\", end='')\n",
    "    check(\"for the win\", \"ftw\", nfl=nfl)\n",
    "    check(\"oh my god\", \"zoMG!!!11!\", nfl=nfl)\n",
    "    check(\"good luck\", \"gl\", nfl=nfl)\n",
    "    check(\"have fun\", \"hf\", nfl=nfl)\n",
    "    check(\"For the win\", \"FTW\", nfl=nfl)\n",
    "    check(\"Good luck\", \"GL\", nfl=nfl)\n",
    "    check(\"Have fun\", \"HF\", nfl=nfl)\n",
    "    if verbose:\n",
    "        print(\"    tests pass\")\n",
    "\n",
    "testProblem2d()\n",
    "testProblem2c()\n",
    "testProblem2b()\n",
    "testProblem2a()"
   ]
  },
  {
   "cell_type": "markdown",
   "metadata": {
    "deletable": false,
    "editable": false,
    "nbgrader": {
     "checksum": "1ff152a044f1741df1ea5c1d04324999",
     "grade": false,
     "grade_id": "cell-f699ee88821ab55e",
     "locked": true,
     "schema_version": 1,
     "solution": false
    }
   },
   "source": [
    "### Problem 2e\n",
    "\n",
    "The administrators are happy with your progress. However, they still can't understand what the kids are saying. Update the `del33tify()` function to take into account the things we added to the `l33tify()` function. Remember that it should make the opposite conversion from `l33tify()` such that `del33tify(l33tify(s)) == s` is `True`."
   ]
  },
  {
   "cell_type": "code",
   "execution_count": 217,
   "metadata": {
    "deletable": false,
    "editable": false,
    "nbgrader": {
     "checksum": "894e23d2ea7d4fc1b644bca7ca4a55a2",
     "grade": true,
     "grade_id": "cell-dcacfb257b0ca67f",
     "locked": true,
     "points": 0,
     "schema_version": 1,
     "solution": false
    }
   },
   "outputs": [
    {
     "name": "stdout",
     "output_type": "stream",
     "text": [
      "Problem 2e:"
     ]
    },
    {
     "ename": "AssertionError",
     "evalue": "error when converting norm-speak to l33t-sp34k: expected FTW, got Ftw",
     "output_type": "error",
     "traceback": [
      "\u001b[1;31m---------------------------------------------------------------------------\u001b[0m",
      "\u001b[1;31mAssertionError\u001b[0m                            Traceback (most recent call last)",
      "\u001b[1;32m<ipython-input-217-3f22b5903e6d>\u001b[0m in \u001b[0;36m<module>\u001b[1;34m()\u001b[0m\n\u001b[0;32m      5\u001b[0m     \u001b[0mprint\u001b[0m\u001b[1;33m(\u001b[0m\u001b[1;34m\"    tests pass\"\u001b[0m\u001b[1;33m)\u001b[0m\u001b[1;33m\u001b[0m\u001b[0m\n\u001b[0;32m      6\u001b[0m \u001b[1;33m\u001b[0m\u001b[0m\n\u001b[1;32m----> 7\u001b[1;33m \u001b[0mtestProblem2e\u001b[0m\u001b[1;33m(\u001b[0m\u001b[1;33m)\u001b[0m\u001b[1;33m\u001b[0m\u001b[0m\n\u001b[0m\u001b[0;32m      8\u001b[0m \u001b[0mtestProblem2d\u001b[0m\u001b[1;33m(\u001b[0m\u001b[1;33m)\u001b[0m\u001b[1;33m\u001b[0m\u001b[0m\n\u001b[0;32m      9\u001b[0m \u001b[0mtestProblem2c\u001b[0m\u001b[1;33m(\u001b[0m\u001b[1;33m)\u001b[0m\u001b[1;33m\u001b[0m\u001b[0m\n",
      "\u001b[1;32m<ipython-input-217-3f22b5903e6d>\u001b[0m in \u001b[0;36mtestProblem2e\u001b[1;34m()\u001b[0m\n\u001b[0;32m      1\u001b[0m \u001b[1;32mdef\u001b[0m \u001b[0mtestProblem2e\u001b[0m\u001b[1;33m(\u001b[0m\u001b[1;33m)\u001b[0m\u001b[1;33m:\u001b[0m\u001b[1;33m\u001b[0m\u001b[0m\n\u001b[0;32m      2\u001b[0m     \u001b[0mprint\u001b[0m\u001b[1;33m(\u001b[0m\u001b[1;34m\"Problem 2e:\"\u001b[0m\u001b[1;33m,\u001b[0m \u001b[0mend\u001b[0m\u001b[1;33m=\u001b[0m\u001b[1;34m''\u001b[0m\u001b[1;33m)\u001b[0m\u001b[1;33m\u001b[0m\u001b[0m\n\u001b[1;32m----> 3\u001b[1;33m     \u001b[0mtestProblem2d\u001b[0m\u001b[1;33m(\u001b[0m\u001b[0mnfl\u001b[0m\u001b[1;33m=\u001b[0m\u001b[1;32mTrue\u001b[0m\u001b[1;33m,\u001b[0m \u001b[0mverbose\u001b[0m\u001b[1;33m=\u001b[0m\u001b[1;32mFalse\u001b[0m\u001b[1;33m)\u001b[0m\u001b[1;33m\u001b[0m\u001b[0m\n\u001b[0m\u001b[0;32m      4\u001b[0m     \u001b[0mtestProblem2c\u001b[0m\u001b[1;33m(\u001b[0m\u001b[0mnfl\u001b[0m\u001b[1;33m=\u001b[0m\u001b[1;32mTrue\u001b[0m\u001b[1;33m,\u001b[0m \u001b[0mverbose\u001b[0m\u001b[1;33m=\u001b[0m\u001b[1;32mFalse\u001b[0m\u001b[1;33m)\u001b[0m\u001b[1;33m\u001b[0m\u001b[0m\n\u001b[0;32m      5\u001b[0m     \u001b[0mprint\u001b[0m\u001b[1;33m(\u001b[0m\u001b[1;34m\"    tests pass\"\u001b[0m\u001b[1;33m)\u001b[0m\u001b[1;33m\u001b[0m\u001b[0m\n",
      "\u001b[1;32m<ipython-input-215-cdcf68bab0a4>\u001b[0m in \u001b[0;36mtestProblem2d\u001b[1;34m(verbose, nfl)\u001b[0m\n\u001b[0;32m      6\u001b[0m     \u001b[0mcheck\u001b[0m\u001b[1;33m(\u001b[0m\u001b[1;34m\"good luck\"\u001b[0m\u001b[1;33m,\u001b[0m \u001b[1;34m\"gl\"\u001b[0m\u001b[1;33m,\u001b[0m \u001b[0mnfl\u001b[0m\u001b[1;33m=\u001b[0m\u001b[0mnfl\u001b[0m\u001b[1;33m)\u001b[0m\u001b[1;33m\u001b[0m\u001b[0m\n\u001b[0;32m      7\u001b[0m     \u001b[0mcheck\u001b[0m\u001b[1;33m(\u001b[0m\u001b[1;34m\"have fun\"\u001b[0m\u001b[1;33m,\u001b[0m \u001b[1;34m\"hf\"\u001b[0m\u001b[1;33m,\u001b[0m \u001b[0mnfl\u001b[0m\u001b[1;33m=\u001b[0m\u001b[0mnfl\u001b[0m\u001b[1;33m)\u001b[0m\u001b[1;33m\u001b[0m\u001b[0m\n\u001b[1;32m----> 8\u001b[1;33m     \u001b[0mcheck\u001b[0m\u001b[1;33m(\u001b[0m\u001b[1;34m\"For the win\"\u001b[0m\u001b[1;33m,\u001b[0m \u001b[1;34m\"FTW\"\u001b[0m\u001b[1;33m,\u001b[0m \u001b[0mnfl\u001b[0m\u001b[1;33m=\u001b[0m\u001b[0mnfl\u001b[0m\u001b[1;33m)\u001b[0m\u001b[1;33m\u001b[0m\u001b[0m\n\u001b[0m\u001b[0;32m      9\u001b[0m     \u001b[0mcheck\u001b[0m\u001b[1;33m(\u001b[0m\u001b[1;34m\"Good luck\"\u001b[0m\u001b[1;33m,\u001b[0m \u001b[1;34m\"GL\"\u001b[0m\u001b[1;33m,\u001b[0m \u001b[0mnfl\u001b[0m\u001b[1;33m=\u001b[0m\u001b[0mnfl\u001b[0m\u001b[1;33m)\u001b[0m\u001b[1;33m\u001b[0m\u001b[0m\n\u001b[0;32m     10\u001b[0m     \u001b[0mcheck\u001b[0m\u001b[1;33m(\u001b[0m\u001b[1;34m\"Have fun\"\u001b[0m\u001b[1;33m,\u001b[0m \u001b[1;34m\"HF\"\u001b[0m\u001b[1;33m,\u001b[0m \u001b[0mnfl\u001b[0m\u001b[1;33m=\u001b[0m\u001b[0mnfl\u001b[0m\u001b[1;33m)\u001b[0m\u001b[1;33m\u001b[0m\u001b[0m\n",
      "\u001b[1;32m<ipython-input-209-4c150ba0a3af>\u001b[0m in \u001b[0;36mcheck\u001b[1;34m(norm_speak, leet_speak, lfn, nfl)\u001b[0m\n\u001b[0;32m      2\u001b[0m     \u001b[1;32mif\u001b[0m \u001b[0mlfn\u001b[0m\u001b[1;33m:\u001b[0m\u001b[1;33m\u001b[0m\u001b[0m\n\u001b[0;32m      3\u001b[0m         \u001b[0mleet_from_norm\u001b[0m \u001b[1;33m=\u001b[0m \u001b[0ml33tify\u001b[0m\u001b[1;33m(\u001b[0m\u001b[0mnorm_speak\u001b[0m\u001b[1;33m)\u001b[0m\u001b[1;33m\u001b[0m\u001b[0m\n\u001b[1;32m----> 4\u001b[1;33m         \u001b[1;32massert\u001b[0m \u001b[0mleet_from_norm\u001b[0m \u001b[1;33m==\u001b[0m \u001b[0mleet_speak\u001b[0m\u001b[1;33m,\u001b[0m \u001b[1;34mf'error when converting norm-speak to l33t-sp34k: expected {leet_speak}, got {leet_from_norm}'\u001b[0m\u001b[1;33m\u001b[0m\u001b[0m\n\u001b[0m\u001b[0;32m      5\u001b[0m \u001b[1;33m\u001b[0m\u001b[0m\n\u001b[0;32m      6\u001b[0m     \u001b[1;32mif\u001b[0m \u001b[0mnfl\u001b[0m\u001b[1;33m:\u001b[0m\u001b[1;33m\u001b[0m\u001b[0m\n",
      "\u001b[1;31mAssertionError\u001b[0m: error when converting norm-speak to l33t-sp34k: expected FTW, got Ftw"
     ]
    }
   ],
   "source": [
    "def testProblem2e():\n",
    "    print(\"Problem 2e:\", end='')\n",
    "    testProblem2d(nfl=True, verbose=False)\n",
    "    testProblem2c(nfl=True, verbose=False)\n",
    "    print(\"    tests pass\")\n",
    "\n",
    "testProblem2e()\n",
    "testProblem2d()\n",
    "testProblem2c()\n",
    "testProblem2b()\n",
    "testProblem2a()"
   ]
  },
  {
   "cell_type": "markdown",
   "metadata": {
    "deletable": false,
    "editable": false,
    "nbgrader": {
     "checksum": "59656b4ce11cc0e321dc9af81eb4d1ef",
     "grade": false,
     "grade_id": "cell-9f6f97c891f48d08",
     "locked": true,
     "schema_version": 1,
     "solution": false
    }
   },
   "source": [
    "## Problem 3\n",
    "Nice work! We'll soon be able to communicate with the kids. The next thing we're going to handle is the most common l33t sp34k word endings. Specifically, words in l33t sp34k often end with -xor, -zor, -age, -'d.\n",
    "\n",
    "### Problem 3a\n",
    "Implement a new function `endswith(s, ending)` that takes two strings as arguments and returns `True` if `\"s\"` ends with `\"ending\"`. For example,\n",
    "* `endswidth(\"hacker\", \"er\")` returns `True`.\n",
    "* `endswidth(\"haxxor\", \"er\")` returns `False`.\n",
    "* `endswidth(\"age\", \"e\")` returns `True`.\n",
    "* `endswidth(\"aged\", \"e\")` returns `False`.\n",
    "* `endswidth(\"accepted\", \"ed\")` returns `True`.\n",
    "* `endswidth(\"accept\", \"ed\")` returns `False`.\n",
    "\n",
    "Do you remember how to extract a substring? :)"
   ]
  },
  {
   "cell_type": "code",
   "execution_count": 218,
   "metadata": {
    "deletable": false,
    "editable": false,
    "nbgrader": {
     "checksum": "a9924ea619350f3b3a0ffc3d89cc1341",
     "grade": true,
     "grade_id": "cell-014f0c1c121f6d93",
     "locked": true,
     "points": 0,
     "schema_version": 1,
     "solution": false
    }
   },
   "outputs": [
    {
     "name": "stdout",
     "output_type": "stream",
     "text": [
      "Problem 3a:    tests pass\n"
     ]
    }
   ],
   "source": [
    "def testProblem3a():\n",
    "    print(\"Problem 3a:\", end='')\n",
    "    assertEqual(endswidth(\"hacker\", \"er\"), True)\n",
    "    assertEqual(endswidth(\"haxxor\", \"er\"), False)\n",
    "    assertEqual(endswidth(\"age\", \"e\"), True)\n",
    "    assertEqual(endswidth(\"aged\", \"e\"), False)\n",
    "    assertEqual(endswidth(\"accepted\", \"ed\"), True)\n",
    "    assertEqual(endswidth(\"accept\", \"ed\"), False)\n",
    "    assertEqual(endswidth(\"accept\", \"accept\"), True)\n",
    "    assertEqual(endswidth(\"accept\", \"faccept\"), False)\n",
    "    assertEqual(endswidth(\"\", \"\"), True)\n",
    "    assertEqual(endswidth(\" \", \" \"), True)\n",
    "    print(\"    tests pass\")\n",
    "    \n",
    "testProblem3a()"
   ]
  },
  {
   "cell_type": "markdown",
   "metadata": {
    "deletable": false,
    "editable": false,
    "nbgrader": {
     "checksum": "07e2982132f4382e7937aa2c4ba61946",
     "grade": false,
     "grade_id": "cell-30c57660fa96ffbb",
     "locked": true,
     "schema_version": 1,
     "solution": false
    }
   },
   "source": [
    "### Problem 3b\n",
    "Implement the following rules:\n",
    "* Words ending with `\"er\"` in normal speak should instead end with `\"xor\"` in l33t sp34k.\n",
    "* Words ending with `\"e\"` in normal speak should instead end with `\"zor\"` in l33t sp34k.\n",
    "* Words ending with `\"ed\"` in normal speak should instead end with `\"'d\"` in l33t sp34k.\n",
    "\n",
    "These rules should be applied after those added in problem 1. Note that `s.replace(s1, s2)` replaces all ocurrences (not only the ending) by default. You need to both extract a substring and concatenate strings here."
   ]
  },
  {
   "cell_type": "code",
   "execution_count": 219,
   "metadata": {
    "deletable": false,
    "editable": false,
    "nbgrader": {
     "checksum": "38cd826dc115e1235676798fd740b34c",
     "grade": true,
     "grade_id": "cell-f61b3acfacd73561",
     "locked": true,
     "points": 3,
     "schema_version": 1,
     "solution": false
    }
   },
   "outputs": [
    {
     "name": "stdout",
     "output_type": "stream",
     "text": [
      "Problem 3b:    tests pass\n",
      "Problem 3a:    tests pass\n"
     ]
    }
   ],
   "source": [
    "def testProblem3b(verbose=True, nfl=False):\n",
    "    if verbose:\n",
    "        print(\"Problem 3b:\", end='')\n",
    "    check(\"weaker\", \"weakxor\", nfl=nfl)\n",
    "    check(\"weak\", \"weak\", nfl=nfl)\n",
    "    check(\"age\", \"agzor\", nfl=nfl)\n",
    "    check(\"based\", \"bas'd\", nfl=nfl)\n",
    "    check(\"knowledge\", \"knowledgzor\", nfl=nfl)\n",
    "    check(\"understood\", \"understood\", nfl=nfl)\n",
    "    check(\"referred\", \"referr'd\", nfl=nfl)\n",
    "    if verbose:\n",
    "        print(\"    tests pass\")\n",
    "\n",
    "testProblem3b()\n",
    "testProblem3a()"
   ]
  },
  {
   "cell_type": "markdown",
   "metadata": {
    "deletable": false,
    "editable": false,
    "nbgrader": {
     "checksum": "667a2f4bcac55a520c823f29f9658923",
     "grade": false,
     "grade_id": "cell-3e5eb1f22ae148f5",
     "locked": true,
     "schema_version": 1,
     "solution": false
    }
   },
   "source": [
    "### Problem 3c\n",
    "All right. Final problem of the assignment! Update the `del33tify()` function to take the word endings into account. Remember that it should make the opposite conversion from `l33tify()` such that `del33tify(l33tify(s)) == s` is `True`."
   ]
  },
  {
   "cell_type": "code",
   "execution_count": 220,
   "metadata": {
    "deletable": false,
    "editable": false,
    "nbgrader": {
     "checksum": "d59e2559f3350ce48812f8000d49ac89",
     "grade": true,
     "grade_id": "cell-39bcf2706e6ab203",
     "locked": true,
     "points": 3,
     "schema_version": 1,
     "solution": false
    }
   },
   "outputs": [
    {
     "name": "stdout",
     "output_type": "stream",
     "text": [
      "Problem 3c:    tests pass\n",
      "Problem 3b:    tests pass\n",
      "Problem 3a:    tests pass\n"
     ]
    }
   ],
   "source": [
    "def testProblem3c():\n",
    "    print(\"Problem 3c:\", end='')\n",
    "    testProblem3b(verbose=False, nfl=True)\n",
    "    print(\"    tests pass\")\n",
    "\n",
    "testProblem3c()\n",
    "testProblem3b()\n",
    "testProblem3a()"
   ]
  },
  {
   "cell_type": "markdown",
   "metadata": {
    "deletable": false,
    "editable": false,
    "nbgrader": {
     "checksum": "3023b7f55028c534e5578f1b9a8b4be8",
     "grade": false,
     "grade_id": "cell-3aa69e390e07b32c",
     "locked": true,
     "schema_version": 1,
     "solution": false
    }
   },
   "source": [
    "## Getting Ahead\n",
    "This week we've focused on dealing with strings. We've also worked with separating functionality via functions. Congratulations on completing it! Processing strings comes up in a wide range of practical applications, e.g., extracting information from strings given by users. It's easy to imagine that spell correction systems does something similar to this.\n",
    "\n",
    "So far our system has only dealt with a single word at a time. To translate entire texts we need to be able to translate strings containing many words to and from l33t sp34k. In this section we're going to implement this. Specifically, write two new functions `l33tify_many(norm_speak)` and `del33tify_many(leet_speak)` that both take a string containing many words as its only argument and converts the whole thing to and from l33t sp34k.\n",
    "* We don't care about capitalization here. For example, it's fine to convert everything to lower case.\n",
    "* The word replacement comes first when converting to l33t sp34k and last when converting back. Word endings are handled after replacing words when converting to l33t sp34k and before replacing words when converting back.\n",
    "\n",
    "This part is meant as preparation for the coming course material and includes materiel not yet covered in the course. Then again, you never have to catch up if you're always getting ahead. This part requires doing more learning on your own. You're in very good shape if you can complete it :)"
   ]
  },
  {
   "cell_type": "code",
   "execution_count": 22,
   "metadata": {},
   "outputs": [
    {
     "name": "stdout",
     "output_type": "stream",
     "text": [
      "foo\n",
      "bar\n",
      "FOO is at index 0\n",
      "BAR is at index 1\n",
      "s2 FOOBAR\n"
     ]
    }
   ],
   "source": [
    "# Python hint: Splitting a string and iterating over the substrings\n",
    "s = 'foo bar'\n",
    "l = s.split(' ') # returns a list ['foo', 'bar']\n",
    "for w in l: # iterate over the words in l\n",
    "    print(w)\n",
    "\n",
    "for i in range(len(l)): # same as above but you get the index\n",
    "    l[i] = l[i].upper() # assign a new string to element i of the list\n",
    "    print(l[i], 'is at index', i)\n",
    "    \n",
    "# Python hint: Joining strings\n",
    "s2 = ''.join(l) # appends the strings in l to the empty string ('')\n",
    "print('s2', s2) # note that s2 is a single string"
   ]
  },
  {
   "cell_type": "code",
   "execution_count": 221,
   "metadata": {
    "deletable": false,
    "nbgrader": {
     "checksum": "9267f3462cee3169ea725c841eea5ca8",
     "grade": false,
     "grade_id": "cell-89054e03a65466b2",
     "locked": false,
     "schema_version": 1,
     "solution": true
    }
   },
   "outputs": [],
   "source": [
    "# YOUR CODE HERE\n",
    "\n",
    "\n",
    "def l33tify_many(norm_speak):\n",
    "    '''convert the string norm_speak containing several words \n",
    "    from normal speak into l33t sp34k.\n",
    "    \n",
    "    '''\n",
    "    # YOUR CODE HERE\n",
    "    \n",
    "    leet_speak = norm_speak.lower().split(' ')\n",
    "    for i in range(len(leet_speak)):\n",
    "        leet_speak[i] = l33tify(leet_speak[i])\n",
    "    return leet_speak\n",
    "        \n",
    "        \n",
    "def del33tify_many(leet_speak):\n",
    "    '''convert the string l33t_speak containing several words \n",
    "    from l33t sp34k into normal speak.\n",
    "    \n",
    "    '''\n",
    "    # YOUR CODE HERE\n",
    "    \n",
    "    for i in range(len(leet_speak)):\n",
    "        leet_speak[i] = ' ' +del33tify(leet_speak[i])\n",
    "    return ''.join(leet_speak).strip()\n",
    "        "
   ]
  },
  {
   "cell_type": "code",
   "execution_count": 222,
   "metadata": {
    "deletable": false,
    "editable": false,
    "nbgrader": {
     "checksum": "d4396aa4cb8e2c3ebaa3c5104d2cefee",
     "grade": true,
     "grade_id": "cell-ef1edcdd99fb913f",
     "locked": true,
     "points": 0,
     "schema_version": 1,
     "solution": false
    }
   },
   "outputs": [
    {
     "name": "stdout",
     "output_type": "stream",
     "text": [
      "Original text:\n",
      "---------------\n",
      "\n",
      "Informatikk tilsvarer computer science på engelsk, og er vitenskapen som ligger bak enhver programvare, fra enkle dataprogram, mobilapper og spill, til store IT-systemer, databaser og nettportaler.\n",
      "\n",
      "Informatikere er svært ettertraktet i arbeidsmarkedet fordi samfunnet er blitt avhengig av at informasjonsteknologien fungerer. Med et stort utvalg studieprogrammer, konkurransedyktige ph.d.-stillinger og seks anerkjente forskergrupper, har du mange muligheter på institutt for informatikk ved UiB.\n",
      "\n",
      "\n",
      "Converted to l33t sp34k:\n",
      "---------------\n",
      "[' \\ninformatikk', ' tilsvarer', ' computer', ' science', ' på', ' engelsk,', ' og', ' er', ' vitenskapen', ' som', ' ligger', ' bak', ' enhver', ' programvare,', ' fra', ' enkle', ' dataprogram,', ' mobilapper', ' og', ' spill,', ' til', ' store', ' it-systemer,', ' databaser', ' og', ' nettportaler.\\n\\ninformatikere', ' er', ' svært', ' ettertraktet', ' i', ' arbeidsmarkedet', ' fordi', ' samfunnet', ' er', ' blitt', ' avhengig', ' av', ' at', ' informasjonsteknologien', ' fungerer.', ' med', ' et', ' stort', ' utvalg', ' studieprogrammer,', ' konkurransedyktige', ' ph.d.-stillinger', ' og', ' seks', ' anerkjente', ' forskergrupper,', ' har', ' du', ' mange', ' muligheter', ' på', ' institutt', ' for', ' informatikk', ' ved', ' uib.\\n']\n",
      "\n",
      "Converted back to norm speak:\n",
      "---------------\n",
      "informatikk tilsvarer computer science på engelsk, og er vitenskapen som ligger bak enhver programvare, fra enkle dataprogram, mobilapper og spill, til store it-systemer, databaser og nettportaler.\n",
      "\n",
      "informatikere er svært ettertraktet i arbeidsmarkedet fordi samfunnet er blitt avhengig av at informasjonsteknologien fungerer. med et stort utvalg studieprogrammer, konkurransedyktige ph.d.-stillinger og seks anerkjente forskergrupper, har du mange muligheter på institutt for informatikk ved uib.\n",
      "\n",
      "Original text:\n",
      "---------------\n",
      "\n",
      "With a wide range of study programs, competitive PhD positions and six recognized research groups, you have many opportunities at the Department of Informatics at UiB. Graduates from us are highly sought after in the labor market, and we prepare our graduates for highly diverse careers in ICT, finance, media and academia. Did you start your computer science studies outside of Norway? We have several options for you to be a student of our department or to start a research career with us.\n",
      "\n",
      "Learn more about our bachelor, master and PhD programs or our exchange programs.\n",
      "\n",
      "Here you can find admission information on how to apply to the University of Bergen.\n",
      "\n",
      "\n",
      "Converted to l33t sp34k:\n",
      "---------------\n",
      "[' \\nwith', ' a', ' wide', ' range', ' of', ' study', ' programs,', ' competitive', ' phd', ' positions', ' and', ' six', ' recognized', ' research', ' groups,', ' you', ' have', ' many', ' opportunities', ' at', ' the', ' department', ' of', ' informatics', ' at', ' uib.', ' graduates', ' from', ' us', ' are', ' highly', ' sought', ' after', ' in', ' the', ' labor', ' market,', ' and', ' we', ' prepare', ' our', ' graduates', ' for', ' highly', ' diverse', ' careers', ' in', ' ict,', ' finance,', ' media', ' and', ' academia.', ' did', ' you', ' start', ' your', ' computer', ' science', ' studies', ' outside', ' of', ' norway?', ' we', ' have', ' several', ' options', ' for', ' you', ' to', ' be', ' a', ' student', ' of', ' our', ' department', ' or', ' to', ' start', ' a', ' research', ' career', ' with', ' us.\\n\\nlearn', ' more', ' about', ' our', ' bachelor,', ' master', ' and', ' phd', ' programs', ' or', ' our', ' exchange', ' programs.\\n\\nhere', ' you', ' can', ' find', ' admission', ' information', ' on', ' how', ' to', ' apply', ' to', ' the', ' university', ' of', ' bergen.\\n']\n",
      "\n",
      "Converted back to norm speak:\n",
      "---------------\n",
      "with a wide range of study programs, competitive phd positions and six recognized research groups, you have many opportunities at the department of informatics at uib. graduates from us are highly sought after in the labor market, and we prepare our graduates for highly diverse careers in ict, finance, media and academia. did you start your computer science studies outside of norway? we have several options for you to be a student of our department or to start a research career with us.\n",
      "\n",
      "learn more about our bachelor, master and phd programs or our exchange programs.\n",
      "\n",
      "here you can find admission information on how to apply to the university of bergen.\n",
      "\n",
      "   tests pass\n"
     ]
    }
   ],
   "source": [
    "def check_many(s):\n",
    "    leet_speak = l33tify_many(s)\n",
    "    norm_speak = del33tify_many(leet_speak)\n",
    "    print('Original text:')\n",
    "    print('---------------')\n",
    "    print(s)\n",
    "    print()\n",
    "    print('Converted to l33t sp34k:')\n",
    "    print('---------------')\n",
    "    print(leet_speak)\n",
    "    print()\n",
    "    print('Converted back to norm speak:')\n",
    "    print('---------------')\n",
    "    print(norm_speak)\n",
    "    print()\n",
    "    \n",
    "    # make lower case, split by word and strip whitespace\n",
    "    s_words = [w.strip() for w in s.lower().split(' ')]\n",
    "    norm_words = [w.strip() for w in norm_speak.lower().split(' ')]\n",
    "    \n",
    "    # check that the number of words is correct\n",
    "    assert len(s_words) == len(norm_words), \\\n",
    "        f'incorrect length after converting back to norm speak. expected {len(s_words)} words, got {len(norm_words)} words'\n",
    "\n",
    "    # compare word by word\n",
    "    for i, (s_word, norm_word) in enumerate(zip(s_words, norm_words)):\n",
    "        assert s_word == norm_word, f'incorrect translation for word {i}. expected {s_word}, got {norm_word}'\n",
    "\n",
    "# Norwegian\n",
    "# https://www.uib.no/ii\n",
    "s = '''\n",
    "Informatikk tilsvarer computer science på engelsk, og er vitenskapen som ligger bak enhver programvare, fra enkle dataprogram, mobilapper og spill, til store IT-systemer, databaser og nettportaler.\n",
    "\n",
    "Informatikere er svært ettertraktet i arbeidsmarkedet fordi samfunnet er blitt avhengig av at informasjonsteknologien fungerer. Med et stort utvalg studieprogrammer, konkurransedyktige ph.d.-stillinger og seks anerkjente forskergrupper, har du mange muligheter på institutt for informatikk ved UiB.\n",
    "'''\n",
    "check_many(s)\n",
    "\n",
    "# English\n",
    "# https://www.uib.no/en/ii\n",
    "s = '''\n",
    "With a wide range of study programs, competitive PhD positions and six recognized research groups, you have many opportunities at the Department of Informatics at UiB. Graduates from us are highly sought after in the labor market, and we prepare our graduates for highly diverse careers in ICT, finance, media and academia. Did you start your computer science studies outside of Norway? We have several options for you to be a student of our department or to start a research career with us.\n",
    "\n",
    "Learn more about our bachelor, master and PhD programs or our exchange programs.\n",
    "\n",
    "Here you can find admission information on how to apply to the University of Bergen.\n",
    "'''\n",
    "check_many(s)\n",
    "\n",
    "print('   tests pass')"
   ]
  },
  {
   "cell_type": "code",
   "execution_count": null,
   "metadata": {},
   "outputs": [],
   "source": []
  }
 ],
 "metadata": {
  "kernelspec": {
   "display_name": "Python 3",
   "language": "python",
   "name": "python3"
  },
  "language_info": {
   "codemirror_mode": {
    "name": "ipython",
    "version": 3
   },
   "file_extension": ".py",
   "mimetype": "text/x-python",
   "name": "python",
   "nbconvert_exporter": "python",
   "pygments_lexer": "ipython3",
   "version": "3.6.5"
  }
 },
 "nbformat": 4,
 "nbformat_minor": 2
}
